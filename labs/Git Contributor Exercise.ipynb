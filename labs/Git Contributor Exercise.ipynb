{
 "cells": [
  {
   "cell_type": "markdown",
   "metadata": {},
   "source": [
    "#Class 3 - Processing Files with Python\n",
    "###DATSF 19\n",
    "####Justin Breucop - 12/7/2015\n",
    "\n",
    "For a lot of data files in class we'll use functionality from various libraries to process data very quickly. However, for custom files, raw text, and data that is configured in a non-standard way, it is important to be able to extract data in a customized fashion. We'll go through this exercise using only libraries that come with the default python distribution. The first step will be to open the file in sublime.\n",
    "\n",
    "Let's say that we are curious about the latest release of ScikitLearn, since we are (or soon will be) frequent users. Our goal is to take the raw commits, sort our authors alphabetically and also count the number of contributions they made. Let's first look at the file. You can do this via the command line but for simplicity's sake we can use the Jupyter cell magic."
   ]
  },
  {
   "cell_type": "code",
   "execution_count": null,
   "metadata": {
    "collapsed": false
   },
   "outputs": [],
   "source": [
    "# For Max/Linux users:\n",
    "! more ../data/raw_commits.txt\n",
    "\n",
    "# For windows users:\n",
    "# ! more ..\\data\\raw_commits.txt"
   ]
  },
  {
   "cell_type": "markdown",
   "metadata": {},
   "source": [
    "We see that each commit has an Author and a date. We need to be able to read the file line by line and add to a list of authors. Remember to use `with open('<filename>') as <variable>` where `<filename>` is the full path to the file and the `<variable>` is any identifier (such as `f`).\n",
    "\n",
    "##### Lines of file -> List of Strings"
   ]
  },
  {
   "cell_type": "code",
   "execution_count": 3,
   "metadata": {
    "collapsed": false
   },
   "outputs": [
    {
     "name": "stdout",
     "output_type": "stream",
     "text": [
      "hello w\n"
     ]
    }
   ],
   "source": [
    "print \"hello w\""
   ]
  },
  {
   "cell_type": "code",
   "execution_count": 60,
   "metadata": {
    "collapsed": false
   },
   "outputs": [
    {
     "name": "stdout",
     "output_type": "stream",
     "text": [
      "['Andreas Mueller', 'Andreas Mueller', 'Andreas Mueller', 'Andreas Mueller', 'Andreas Mueller', 'Andreas Mueller', 'Andreas Mueller', 'Andreas Mueller', 'KamalakerDadi', 'Andreas Mueller', 'Graham Clenaghan', 'Andreas Mueller', 'Andreas Mueller', 'Andreas Mueller', 'Andreas Mueller', 'Andreas Mueller', 'Andreas Mueller', 'trevorstephens', 'Andreas Mueller', 'Andreas Mueller', 'Andreas Mueller', 'Andreas Mueller', 'Andreas Mueller', 'Andreas Mueller', 'Andreas Mueller', 'Andreas Mueller', 'Andreas Mueller', 'trevorstephens', 'Olivier Grisel', 'TomDLT', 'Lo\\xc3\\xafc Est\\xc3\\xa8ve', 'Andreas Mueller', 'Ganiev Ibraim', 'Giorgio Patrini', 'MartinBpr', 'Andreas Mueller', 'Arthur Mensch', 'Andreas Mueller', 'Jeffrey04', 'MaryanMorel', 'Arnaud Rachez', 'Olivier Grisel', 'giorgiop', 'Gilles Louppe', 'Andreas Mueller', 'MechCoder', 'Olivier Grisel', 'Olivier Grisel', 'Andreas Mueller', 'giorgiop', 'Olivier Grisel', 'Olivier Grisel', 'Joel Nothman', 'Alexandre Gramfort', 'Andreas Mueller', 'Olivier Grisel', 'Andreas Mueller', 'Andreas Mueller', 'Lo\\xc3\\xafc Est\\xc3\\xa8ve', 'Andreas Mueller', 'Loic Esteve', '=?UTF-8?q?Lo=C3=AFc=20Est=C3=A8ve?=', 'Raghav R V', 'Loic Esteve', 'Raghav R V', 'Andreas Mueller', 'Lo\\xc3\\xafc Est\\xc3\\xa8ve', 'Gael Varoquaux', 'Olivier Grisel', 'Olivier Grisel', 'Olivier Grisel', 'Olivier Grisel', 'Lo\\xc3\\xafc Est\\xc3\\xa8ve', 'Lo\\xc3\\xafc Est\\xc3\\xa8ve', 'Andreas Mueller', 'Jiali Mei', 'Andreas Mueller', 'Clyde-fare', 'Lo\\xc3\\xafc Est\\xc3\\xa8ve', 'Andreas Mueller', 'Keith Goodman', 'Andreas Mueller', 'Andreas Mueller', 'Tom Dupr\\xc3\\xa9 la Tour', 'Olivier Grisel', 'giorgiop', 'TomDLT', 'Tom DLT', 'Andreas Mueller', 'Mathieu Blondel', 'Olivier Grisel', 'Olivier Grisel', 'Olivier Grisel', 'Olivier Grisel', 'Jacob Schreiber', 'Michael Patterson', 'Michael Patterson', 'Manoj Kumar', 'MechCoder', 'Joel Nothman', 'Andreas Mueller', 'Vighnesh Birodkar', 'MechCoder', 'Joel Nothman', 'Yucheng Low', 'Vighnesh Birodkar', 'Joshua Loyal', 'Alexandre Gramfort', 'Lilian Besson', 'Olivier Grisel', 'Alexandre Gramfort', 'Jake VanderPlas', 'Joel Nothman', 'Graham Clenaghan', 'Manoj Kumar', 'Lilian Besson', 'MechCoder', 'Raghav R V', 'Arnaud Joly', 'Jake VanderPlas', 'Jake VanderPlas', 'Olivier Grisel', 'Olivier Grisel', 'Olivier Grisel', 'Olivier Grisel', 'Olivier Grisel', 'Olivier Grisel', 'Olivier Grisel', 'Olivier Grisel', 'Alexandre Gramfort', 'Andrew Lamb', 'Andrew Lamb', 'Jake VanderPlas', 'Jake VanderPlas', 'Jake VanderPlas', 'Jake Vanderplas', 'Vighnesh Birodkar', 'Vighnesh Birodkar', 'Vighnesh Birodkar', 'Vighnesh Birodkar', 'Gilles Louppe', 'Allen Riddell', 'Gael Varoquaux', 'Lilian Besson', 'MechCoder', 'MechCoder', 'MechCoder', 'MechCoder', 'MechCoder', 'MechCoder', 'MechCoder', 'MechCoder', 'maheshakya', 'Arthur Mensch', 'Olivier Grisel', 'Olivier Grisel', 'Olivier Grisel', 'Alexandre Gramfort', 'Alexandre Gramfort', 'giorgiop', 'Gael Varoquaux', 'Rohan Ramanath', 'Lars Buitinck', 'Ishank Gulati', 'Gael Varoquaux', 'Olivier Grisel', 'Lars Buitinck', 'Lars Buitinck', 'Gael Varoquaux', 'Olivier Grisel', 'Olivier Grisel', 'Arnaud Joly', 'Jacob Schreiber', 'Lars Buitinck', 'Gilles Louppe', 'Olivier Grisel', 'Olivier Grisel', 'Olivier Grisel', 'hlin117', 'Gael Varoquaux', 'Jeremy', 'Gilles Louppe', 'JeanKossaifi', 'Gilles Louppe', 'Lars Buitinck', 'Andreas Mueller', 'Gilles Louppe', 'Jacob Schreiber', 'Gael Varoquaux', 'Lars Buitinck', 'Gael Varoquaux', 'Olivier Grisel', 'Andreas Mueller', 'trevorstephens', 'Olivier Grisel', 'Gilles Louppe', 'Gilles Louppe', 'Jacob Schreiber', 'Andreas Mueller', 'Andreas Mueller', 'TomDLT', 'Joel Nothman', 'Joel Nothman', 'Andreas Mueller', 'Alexandre Gramfort', 'Gael Varoquaux', 'Fernando Carrillo', 'Joel Nothman', 'Cindy Sridharan', 'Cindy Sridharan', 'Cindy Sridharan', 'Olivier Grisel', 'Manoj Kumar', 'Timothy Hopper', 'TomDLT', 'TomDLT', 'benjaminirving', 'vstolbunov', 'vstolbunov', 'Valentin Stolbunov', 'Lars', 'Vinayak Mehta', 'Olivier Grisel', 'Gilles Louppe', 'Gilles Louppe', 'Manoj Kumar', 'Gilles Louppe', 'Andreas Mueller', 'Andrew Lamb', 'Alexandre Gramfort', 'Andreas Mueller', 'hlin117', 'Andrew Lamb', 'Andrew Lamb', 'Gilles Louppe', 'Gilles Louppe', 'Gilles Louppe', 'Andreas Mueller', 'Andreas Mueller', 'Andreas Mueller', 'Christopher Erick Moody', 'Olivier Grisel', 'Olivier Grisel', 'Olivier Grisel', 'Olivier Grisel', 'Olivier Grisel', 'Vinayak Mehta', 'Alexandre Gramfort', 'Gilles Louppe', 'Adithya Ganesh', 'MechCoder', 'Andreas Mueller', 'TomDLT', 'Danny Sullivan', 'Andreas Mueller', 'Arnaud Joly', 'Olivier Grisel', 'Jacob Schreiber', 'Olivier Grisel', 'Raghav R V', 'Andreas Mueller', 'Manoj Kumar', 'Vighnesh Birodkar', 'Arnaud Joly', 'Jacob Schreiber', 'Gilles Louppe', 'Andreas Mueller', 'MechCoder', 'MechCoder', 'Andreas Mueller', 'Andreas Mueller', 'Gilles Louppe', 'Matti Lyra', 'Gilles Louppe', 'Gilles Louppe', 'Gilles Louppe', 'Matti Lyra', 'Arnaud Joly', 'Gilles Louppe', 'Gilles Louppe', 'Jean Kossaifi', 'Arnaud Joly', 'MechCoder', 'Masafumi Oyamada', 'djipey', 'djipey', 'djipey', 'djipey', 'djipey', 'Olivier Grisel', 'Olivier Grisel', 'Adithya Ganesh', 'Adithya Ganesh', 'Adithya Ganesh', 'Adithya Ganesh', 'Chi Zhang', 'Gael Varoquaux', 'Christophe Bourguignat', 'Chi Zhang', 'Olivier Grisel', 'Olivier Grisel', 'Joel Nothman', 'Joel Nothman', 'Joel Nothman', 'Joel Nothman', 'Gael Varoquaux', 'Gael Varoquaux', 'jnothman', 'jnothman', 'jnothman', 'Joel Nothman', 'Christophe Bourguignat', 'Christophe Bourguignat', 'Alexandre Gramfort', 'Andreas Mueller', 'Gael Varoquaux', 'Dougal Sutherland', 'Gael Varoquaux', 'MechCoder', 'Gael Varoquaux', 'Gael Varoquaux', 'Gael Varoquaux', 'Gael Varoquaux', 'Gael Varoquaux', 'MechCoder', 'Gael Varoquaux', 'Joel Nothman', 'Gael Varoquaux', 'Gael Varoquaux', 'Kashif Rasul', 'Gael Varoquaux', 'Joel Nothman', 'Joel Nothman', 'Joel Nothman', 'Joel Nothman', 'Joel Nothman', 'Joel Nothman', 'Joel Nothman', 'Joel Nothman', 'Robert Layton', 'jnothman', 'Gael Varoquaux', 'Gael Varoquaux', 'Gael Varoquaux', 'Gilles Louppe', 'Gael Varoquaux', 'Gael Varoquaux', 'Gilles Louppe', 'Brian McFee', 'santi', 'Gael Varoquaux', 'Gael Varoquaux', 'Christophe Bourguignat', 'Joel Nothman', 'MechCoder', 'Alexandre Gramfort', 'Alexandre Gramfort', 'mhg', 'mhg', 'Joel Nothman', 'Olivier Grisel', 'Olivier Grisel', 'Olivier Grisel', 'Olivier Grisel', 'Olivier Grisel', 'Data1010', 'Olivier Grisel', 'jnothman', 'Andreas Mueller', 'Data1010', 'Buddha Prakash', 'Buddha Prakash', 'Buddha Prakash', 'Buddha Prakash', 'mhg', 'Buddha Prakash', 'Buddha Prakash', 'Alexandre Gramfort', 'Andreas Mueller', 'mhg', 'Joel Nothman', 'mhg', 'mhg', 'mhg', 'mhg', 'mhg', 'mhg', 'mhg', 'Ganiev Ibraim', 'jnothman', 'saurabh.bansod', 'Olivier Grisel', 'Alexandre Gramfort', 'Ganiev Ibraim', 'jnothman', 'Olivier Grisel', 'Eric Larson', 'Arthur Mensch', 'Andreas Mueller', 'mhg', 'mhg', 'mhg', 'mhg', 'mhg', 'Olivier Grisel', 'Alexandre Gramfort', 'mhg', 'mhg', 'mhg', 'mhg', 'mhg', 'mhg', 'rasbt', 'jnothman', 'Frank Zalkow', 'Frank Zalkow', 'Lars Buitinck', 'Tim Head', 'Lars Buitinck', 'Lars', 'Lars', 'Frank Zalkow', 'Anish Shah', 'Frank Zalkow', 'Frank Zalkow', 'Frank Zalkow', 'Frank Zalkow', 'Chyi-Kwei Yau', 'Buddha Prakash', 'Lars Buitinck', 'Lars Buitinck', 'Lars', 'Ganiev Ibraim', 'Sonny Hu', 'Andreas Mueller', 'Kyler Brown', 'jnothman', 'Frank Zalkow', 'Frank Zalkow', 'Lars Buitinck', 'Tim Head', 'Raghav R V', 'Raghav R V', 'Raghav', 'Raghav R V', 'Raghav R V', 'Raghav R V', 'Raghav R V', 'Raghav R V', 'Raghav R V', 'Raghav R V', 'Raghav R V', 'Raghav R V', 'Raghav R V', 'Raghav R V', 'Raghav R V', 'Raghav R V', 'Raghav R V', 'Raghav R V', 'Mathieu Blondel', 'Mathieu Blondel', 'Alexandre Gramfort', 'Lars Buitinck', 'Lars', 'Joel Nothman', 'Ganiev Ibraim', 'Andreas Mueller', 'jnothman', 'Pauli Virtanen', 'Alexandre Gramfort', 'Andreas Mueller', 'mbillinger', 'mbillinger', 'mbillinger', 'mbillinger', 'John Wittenauer', 'John Wittenauer', 'Andreas Mueller', 'Lars', 'Lars Buitinck', 'Lars', 'Andreas Mueller', 'Andreas Mueller', 'Lars Buitinck', 'Joe Jevnik', 'Andreas Mueller', 'Joe Jevnik', 'Andreas Mueller', 'Raghav R V', 'Gryllos Prokopis', 'Gryllos Prokopis', 'Gryllos Prokopis', 'Gael Varoquaux', 'Andreas Mueller', 'Gael Varoquaux', 'Andreas Mueller', 'Gael Varoquaux', 'Lars Buitinck', 'Lars Buitinck', 'Andreas Mueller', 'Andreas Mueller', 'Andreas Mueller', 'Andreas Mueller', 'Andreas Mueller', 'Andreas Mueller', 'Arthur Mensch', 'Lars Buitinck', 'Gilles Louppe', 'Gilles Louppe', 'Andreas Mueller', 'SimonPL', 'SimonPL', 'Jacob Schreiber', 'Lars Buitinck', 'Gael Varoquaux', 'mhg', 'mhg', 'mhg', 'Andreas Mueller', 'Andreas Mueller', 'MarkTab marktab.net', 'Andreas Mueller', 'Andreas Mueller', 'Alexandre Gramfort', 'Andreas Mueller', 'Andreas Mueller', 'Alexandre Gramfort', 'Joel Nothman', 'Phil Roth', 'Phil Roth', 'Olivier Grisel', 'Alexandre Gramfort', 'John Kirkham', 'Olivier Grisel', 'Olivier Grisel', 'Phil Roth', 'Stephen Hoover', 'Olivier Grisel', 'Olivier Grisel', 'Lo\\xc3\\xafc Est\\xc3\\xa8ve', 'Olivier Grisel', 'Jacob Schreiber', 'Jacob Schreiber', 'Jacob Schreiber', 'Jacob Schreiber', 'Olivier Grisel', 'Olivier Grisel', 'Gilles Louppe', 'Gael Varoquaux', 'Louis Tiao', 'Lo\\xc3\\xafc Est\\xc3\\xa8ve', 'Lo\\xc3\\xafc Est\\xc3\\xa8ve', 'Olivier Grisel', 'Alexandre Gramfort', 'TomDLT', 'Jacob Schreiber', 'Jacob Schreiber', 'Alexandre Gramfort', 'Andreas Mueller', 'Gilles Louppe', 'Alexandre Gramfort', 'hlin117', 'hlin117', 'hlin117', 'Gael Varoquaux', 'Ankur Ankan', 'Olivier Grisel', 'Olivier Grisel', 'TomDLT', 'Olivier Grisel', 'Olivier Grisel', 'TomDLT', 'Olivier Grisel', 'Olivier Grisel', 'Jacob Schreiber', 'Alexandre Gramfort', 'Gilles Louppe', 'Donne Martin', 'edson duarte', 'Lars Buitinck', 'Andreas Mueller', 'Phil Roth', 'Andreas Mueller', 'Phil Roth', 'Andreas Mueller', 'David Dotson', 'Stephen Hoover', 'Lars', 'Lars Buitinck', 'Lars', 'Lars', 'Gilles Louppe', 'Chih-Wei Chang', 'unknown', 'banilo', 'Andreas Mueller', 'Phil Roth', 'Matt Krump', 'Phil Roth', 'Vincent', 'Matt Krump', 'rasbt', 'David Dotson', 'unknown', 'unknown', 'Andreas Mueller', 'unknown', 'Andreas Mueller', 'Phil Roth', 'Phil Roth', 'Andreas Mueller', 'unknown', 'Gael Varoquaux', 'Stephen Hoover', 'Yury Zhauniarovich', 'pianomania', 'Chyi-Kwei Yau', 'pianomania', 'pianomania', 'Chyi-Kwei Yau', 'Chyi-Kwei Yau', 'jnothman', 'Olivier Grisel', 'Olivier Grisel', 'Theodore Vasiloudis', 'Arnaud Joly', 'rasbt', 'Joel Nothman', 'Thomas Unterthiner', 'Raghav R V', 'Alexandre Gramfort', 'Thomas Unterthiner', 'Eduardo Caro', 'Thomas Unterthiner', 'Andreas Mueller', 'Olivier Grisel', 'Lars', 'Lars', 'Lo\\xc3\\xafc Est\\xc3\\xa8ve', 'Arnaud Joly', 'Alexandre Gramfort', 'Chyi-Kwei Yau', 'Chyi-Kwei Yau', 'Chyi-Kwei Yau', 'Chyi-Kwei Yau', 'Chyi-Kwei Yau', 'Chyi-Kwei Yau', 'Chyi-Kwei Yau', 'jnothman', 'Joel Nothman', 'Alexandre Gramfort', 'Alexandre Gramfort', 'Tian Wang', 'Jacob Schreiber', 'Jacob Schreiber', 'Mathieu Blondel', 'MechCoder', 'Chyi-Kwei Yau', 'Mathieu Blondel', 'jnothman', 'Raghav R V', 'martinosorb', 'Olivier Grisel', 'Olivier Grisel', 'jnothman', 'Andreas Mueller', 'rasbt', 'Andreas Mueller', 'rasbt', 'Andreas Mueller', 'Joel Nothman', 'jnothman', 'Alexandre Gramfort', 'jnothman', 'Louis Tiao', '\\xc3\\x93scar N\\xc3\\xa1jera', '\\xc3\\x93scar N\\xc3\\xa1jera', 'Alexandre Gramfort', 'Christophe Bourguignat', 'trevorstephens', 'Joel Nothman', 'Joel Nothman', 'jnothman', 'Joel Nothman', 'Joel Nothman', 'Andreas Mueller', 'Frank C. Eckert', 'Andreas Mueller', 'Thomas Unterthiner', 'Joshua Loyal', 'Joel Nothman', 'Alexandre Gramfort', 'Jaidev Deshpande', 'TomDLT', 'Andreas Mueller', 'Alexandre Gramfort', 'Andreas Mueller', 'Andreas Mueller', 'jnothman', 'Alexandre Gramfort', 'Alexandre Gramfort', 'trevorstephens', '=', '=', '=', 'Jungkook Park', 'Andreas Mueller', 'Daniel Kronovet', 'Daniel Kronovet', 'Daniel Kronovet', 'Joel Nothman', 'Alexandre Gramfort', 'Raghav R V', 'Lars Buitinck', 'Lars Buitinck', 'Andreas Mueller', 'trevorstephens', 'Sonny Hu', 'Shivan Sornarajah', 'Andreas Mueller', 'Andreas Mueller', 'Andreas Mueller', 'Alexandre Gramfort', 'Andreas Mueller', 'Andreas Mueller', 'Alexandre Gramfort', 'Mathieu Blondel', 'Mathieu Blondel', 'Andreas Mueller', 'Mathieu Blondel', 'Andreas Mueller', 'Olivier Grisel', 'tokoroten', 'tokoroten', 'Gael Varoquaux', 'Andreas Mueller', 'Andreas Mueller', 'Andreas Mueller', 'Joshua Loyal', 'Andreas Mueller', 'Andreas Mueller', 'Andreas Mueller', 'Andreas Mueller', 'Andreas Mueller', 'Chyi-Kwei Yau', 'Chyi-Kwei Yau', 'Alexandre Gramfort', 'Andreas Mueller', 'Andreas Mueller', 'martinosorb', 'tokoroten', 'martinosorb', 'Chyi-Kwei Yau', 'Andreas Mueller', 'Gael Varoquaux', '\\xc3\\x93scar N\\xc3\\xa1jera', 'Olivier Grisel', 'martinosorb', '\\xc3\\x93scar N\\xc3\\xa1jera', 'tokoroten', 'tokoroten', 'Alexandre Gramfort', 'Alexandre Gramfort', 'Andreas Mueller', 'Andreas Mueller', 'martinosorb', 'Thomas Unterthiner', 'TomDLT', 'Olivier Grisel', 'Olivier Grisel', 'Olivier Grisel', 'TomDLT', 'Andreas Mueller', 'Gael Varoquaux', 'Brett Naul', 'Olivier Grisel', 'Chyi-Kwei Yau', 'Chyi-Kwei Yau', '\\xc3\\x93scar N\\xc3\\xa1jera', '\\xc3\\x93scar N\\xc3\\xa1jera', '\\xc3\\x93scar N\\xc3\\xa1jera', '\\xc3\\x93scar N\\xc3\\xa1jera', 'Alexey Grigorev', 'Alexandre Gramfort', 'trevorstephens', 'Lars Buitinck', 'Lars', 'Tiago Freitas Pereira', 'Olivier Grisel', 'Olivier Grisel', 'Olivier Grisel', 'Olivier Grisel', 'Thomas Unterthiner', 'Thomas Unterthiner', 'Andreas Mueller', 'Olivier Grisel', 'Thomas Unterthiner', 'Olivier Grisel', 'Olivier Grisel', 'TomDLT', 'Alexandre Gramfort', 'TomDLT', 'TomDLT', 'Alexandre Gramfort', 'Olivier Grisel', 'Thomas Unterthiner', 'Andreas Mueller', 'Andreas Mueller', 'Andreas Mueller', 'TomDLT', 'Andreas Mueller', 'Olivier Grisel', 'Olivier Grisel', 'Olivier Grisel', 'Olivier Grisel', 'Olivier Grisel', 'Andreas Mueller', 'Andreas Mueller', 'Andreas Mueller', 'Andreas Mueller', 'TomDLT', 'Olivier Grisel', 'TomDLT', 'Olivier Grisel', 'Lars Buitinck', 'Andreas Mueller', 'Skipper Seabold', 'Skipper Seabold', 'Andreas Mueller', 'Alexandre Gramfort', 'Aaron Schumacher', 'Chyi-Kwei Yau', 'Chyi-Kwei Yau', 'Thomas Unterthiner', 'Thomas Unterthiner', 'Thomas Unterthiner', 'Thomas Unterthiner', 'Thomas Unterthiner', 'Chyi-Kwei Yau', 'Chyi-Kwei Yau', 'Chyi-Kwei Yau', 'Andreas Mueller', 'Mathieu Blondel', 'Thomas Unterthiner', 'Thomas Unterthiner', 'Thomas Unterthiner', 'Thomas Unterthiner', 'Thomas Unterthiner', 'Thomas Unterthiner', 'Andreas Mueller', 'Thomas Unterthiner', 'Thomas Unterthiner', 'Thomas Unterthiner', 'Thomas Unterthiner', 'Chyi-Kwei Yau', 'Andreas Mueller', 'Dmitry Spikhalskiy', 'Andreas Mueller', 'Andreas Mueller', 'Andreas Mueller', 'Tim Head', 'Tim Head', 'Andreas Mueller', 'Andreas Mueller', 'Andreas Mueller', 'Mathieu Blondel', 'Andreas Mueller', 'Andreas Mueller', 'Andreas Mueller', 'Arnaud Joly', 'Andreas Mueller', 'Gilles Louppe', 'Gael Varoquaux', 'Chyi-Kwei Yau', 'trevorstephens', 'Gilles Louppe', 'Chyi-Kwei Yau', 'Chyi-Kwei Yau', 'Chyi-Kwei Yau', 'Chyi-Kwei Yau', 'Chyi-Kwei Yau', 'trevorstephens', 'Chyi-Kwei Yau', 'Chyi-Kwei Yau', 'Andreas Mueller', 'Andreas Mueller', 'CJ Carey', 'CJ Carey', 'CJ Carey', 'Andreas Mueller', 'Konstantin Shmelkov', 'Gilles Louppe', 'Kian Ho', 'Gael Varoquaux', 'Gilles Louppe', 'Alexandre Gramfort', 'Andreas Mueller', 'Olivier Grisel', 'Olivier Grisel', 'Peter Fischer', 'Olivier Grisel', 'Kian Ho', 'Gael Varoquaux', 'trevorstephens', 'David', 'Andreas Mueller', 'Arnaud Joly', 'Tim Head', 'Tim Head', 'Tim Head', 'Tim Head', 'Tim Head', 'Tim Head', 'Tim Head', 'Tim Head', 'Raghav R V', 'Raghav R V', 'Raghav R V', 'Andreas Mueller', 'Alexandre Gramfort', 'Zac Stewart', 'Kian Ho', 'Kian Ho', 'Gilles Louppe', 'Olivier Grisel', 'Ando Saabas', 'Olivier Grisel', 'Andreas Mueller', 'Gael Varoquaux', 'Sebastian Saeger', 'Sebastian Saeger', 'Kian Ho', 'rasbt', 'Alexandre Gramfort', 'Alexandre Gramfort', 'Gael Varoquaux', 'Andreas Mueller', 'Maxim Kolganov', 'Maxim Kolganov', 'Sebastian Saeger', 'Sebastian Saeger', 'Sebastian Saeger', 'Sebastian Saeger', 'Sebastian Saeger', 'Sebastian Saeger', 'Sebastian Saeger', 'Sebastian Saeger', 'Andreas Mueller', 'Cory Lorenz', 'Andreas Mueller', 'Andreas Mueller', 'Lars Buitinck', 'Lo\\xc3\\xafc Est\\xc3\\xa8ve', 'Olivier Grisel', 'Alexandre Gramfort', 'Lo\\xc3\\xafc Est\\xc3\\xa8ve', 'Arnaud Joly', 'Andreas Mueller', 'Andreas Mueller', 'Andreas Mueller', 'Andreas Mueller', 'Andreas Mueller', 'Andreas Mueller', 'Andreas Mueller', 'Andreas Mueller', 'Anthony Erlinger', 'Olivier Grisel', 'Dougal J. Sutherland', 'Anthony Erlinger', 'Andreas Mueller', 'scls19fr', 'Olivier Grisel', 'scls19fr', 'Anthony Erlinger', 'Anthony Erlinger', 'Anthony Erlinger', 'Brett Naul', 'Gael Varoquaux', 'Gael Varoquaux', 'Miroslav Batchkarov', 'Arnaud Joly', 'CJ Carey', 'Olivier Grisel', 'Andreas Mueller', 'rasbt', 'rasbt', 'rasbt', 'rasbt', 'Andreas Mueller', 'Wei Xue', 'Wei Xue', 'Arnaud Joly', 'Arnaud Joly', 'Arnaud Joly', 'Arnaud Joly', 'Arnaud Joly', 'Arnaud Joly', 'Andreas Mueller', 'Olivier Grisel', 'Steven Seguin', 'Olivier Grisel', 'jfraj', 'Olivier Grisel', 'Immanuel Bayer', 'Alexandre Gramfort', 'Joel Nothman', 'jfraj', 'Cory Lorenz', 'Christof Angermueller', 'Gael Varoquaux', 'Olivier Grisel', 'Alexandre Gramfort', 'Immanuel Bayer', 'Steven Seguin', 'Steven Seguin', 'Steven Seguin', 'sseg', 'Andreas Mueller', 'Andreas Mueller', 'jfraj', 'Gael Varoquaux', 'Arnaud Joly', 'Arnaud Joly', 'Gael Varoquaux', 'Andreas Mueller', 'Olivier Grisel', 'Steven De Gryze', 'Steven De Gryze', 'Steven De Gryze', 'Olivier Grisel', 'Olivier Grisel', 'Alexandre Gramfort', 'Erich Schubert', 'Gilles Louppe', 'Gilles Louppe', 'Gilles Louppe', 'Gilles Louppe', 'jnothman', 'Omer Katz', 'Hsuan-Tien Lin', 'Hsuan-Tien Lin', 'Vinayak Mehta', 'Gael Varoquaux', 'Olivier Grisel', 'Olivier Grisel', 'Vinayak Mehta', 'Hsuan-Tien Lin', 'Gael Varoquaux', 'Olivier Grisel', 'Martin Spacek', 'Olivier Grisel', 'Andreas Mueller', 'Martin Spacek', 'Olivier Grisel', 'Olivier Grisel', 'Olivier Grisel', 'Hsuan-Tien Lin', 'Hsuan-Tien Lin', 'Hsuan-Tien Lin', 'Hsuan-Tien Lin', 'Olivier Grisel', 'Hsuan-Tien Lin', 'Gilles Louppe', 'Andreas Mueller', 'Olivier Grisel', 'Gilles Louppe', 'Gilles Louppe', 'Olivier Grisel', 'Andreas Mueller', 'Andreas Mueller', 'Andreas Mueller', 'zhai_pro', 'zhai_pro', 'Andreas Mueller', 'Andreas Mueller', 'Alexandre Gramfort', 'Alexandre Gramfort', 'Preston Parry', 'Andreas Mueller', 'Andreas Mueller', 'Alexandre Gramfort', 'sinhrks', 'Sam Zhang', 'Gael Varoquaux', 'Jan Hendrik Metzen', 'Michael Heilman', 'Michael Heilman', 'Varoquaux', 'Andreas Mueller', 'Andreas Mueller', 'Andreas Mueller', 'Andreas Mueller', 'Vincent Michel', 'Gilles Louppe', 'Tim Head', 'Tim Head', 'Daniel Galvez', 'Daniel Galvez', 'Daniel Galvez', 'Daniel Galvez', 'Daniel Galvez', 'Daniel Galvez', 'Vinayak Mehta', 'Saket Choudhary', 'Andreas Mueller', 'Andreas Mueller', 'Andreas Mueller', 'Andreas Mueller', 'Andreas Mueller', 'Andreas Mueller', 'Andreas Mueller', 'Andreas Mueller', 'Alexandre Gramfort', 'Jack Martin', 'Olivier Grisel', 'Ali Baharev', 'Jack Martin', 'Andreas Mueller', 'Vinayak Mehta', 'Wei Xue', 'Gael Varoquaux', 'Christoph Gohlke', 'Olivier Grisel', 'Andreas Mueller', 'Andreas Mueller', 'Olivier Grisel', 'Andreas Mueller', 'Rob Zinkov', 'Andreas Mueller', 'Raghav R V', 'Peter Prettenhofer', 'Peter Prettenhofer', 'Andreas Mueller', 'Andreas Mueller', 'Peter Prettenhofer', 'Peter Prettenhofer', 'Peter Prettenhofer', 'Olivier Grisel', 'Wei Xue', 'Wei Xue', 'Olivier Grisel', 'Andreas Mueller', 'Andreas Mueller', 'Miroslav Batchkarov', 'Gael Varoquaux', 'Vinayak Mehta', 'Andreas Mueller', 'Boyuan Deng', 'Boyuan Deng', 'Miroslav Batchkarov', 'Miroslav Batchkarov', 'Olivier Grisel', 'Vinayak Mehta', 'Andreas Mueller', 'Olivier Grisel', 'Andreas Mueller', 'Olivier Grisel', 'Olivier Grisel', 'Nicolas', 'Olivier Grisel', 'Gael Varoquaux', 'gwulfs', 'gwulfs', 'Raghav R V', 'Raghav R V', 'Vinayak Mehta', 'Andreas Mueller', 'Andreas Mueller', 'Andreas Mueller', 'Andreas Mueller', 'Andreas Mueller', 'Olivier Grisel', 'Olivier Grisel', 'Olivier Grisel', 'Olivier Grisel', 'Olivier Grisel', 'trevorstephens', 'Andreas Mueller', 'Andreas Mueller', 'Andreas Mueller', 'Vinayak Mehta', 'Boyuan Deng', 'Vinayak Mehta', 'Andreas Mueller', 'Raghav R V', 'Andreas Mueller', 'Raghav R V', 'Olivier Grisel', 'Olivier Grisel', 'Olivier Grisel', 'Olivier Grisel', 'Andreas Mueller', 'Andreas Mueller', 'Alexandre Gramfort', 'Lo\\xc3\\xafc Est\\xc3\\xa8ve', 'Lo\\xc3\\xafc Est\\xc3\\xa8ve', 'Andreas Mueller', 'Olivier Grisel', 'Eric Martin', 'Vinayak Mehta', 'Olivier Grisel', 'Vinayak Mehta', 'Gael Varoquaux', 'Olivier Grisel', 'Lars Buitinck', 'Andreas Mueller', 'Andreas Mueller', 'Andreas Mueller', 'Andreas Mueller', 'Olivier Grisel', 'Alexandre Gramfort', 'akitty', 'sinhrks', 'Barmaley.exe', 'Gael Varoquaux', 'Barmaley.exe', 'Barmaley.exe', 'Barmaley.exe', 'Andreas Mueller', 'Mathieu Blondel', 'Saket Choudhary', 'Andreas Mueller', 'Olivier Grisel', 'Arnaud Joly', 'Andreas Mueller', 'Wei Xue', 'Andreas Mueller', 'Dan Blanchard', 'Andreas Mueller', 'Andreas Mueller', 'Wei Xue', 'Andreas Mueller', 'Martin Ku', 'Wei Xue', 'Andreas Mueller', 'Jan Hendrik Metzen', 'Jan Hendrik Metzen', 'Alexandre Gramfort', 'Andreas Mueller', 'Andreas Mueller', 'Ari Rouvinen', 'Alexandre Gramfort', 'Joseph', 'Olivier Grisel', 'Olivier Grisel', 'Andreas Mueller', 'Raghav R V', 'Raghav R V', 'Martin Ku', 'David D Lowe', 'Nikolay Mayorov', 'David D Lowe', 'David D Lowe', 'Thomas Unterthiner', 'Thomas Unterthiner', 'maheshakya', 'maheshakya', 'Joel Nothman', 'wangz10', 'wangz10', 'Zichen Wang', 'Zichen Wang', 'Zichen Wang']\n"
     ]
    }
   ],
   "source": [
    "# Open the file and try printing all lines that start with author\n",
    "\n",
    "authors = []\n",
    "\n",
    "with open('../data/raw_commits.txt', 'rw') as filename:\n",
    "    for line in filename:\n",
    "        if line.split(\" \")[0][:6].lower() == \"author\":\n",
    "            authors.append(line[8:].split(' <')[0])\n",
    "        else:\n",
    "            pass\n",
    "        \n",
    "\n",
    "print authors\n",
    "\n",
    "            \n",
    "            \n",
    "# Make sure to append the author name to the list. You'll need to use string manipulation techniques.\n",
    "\n",
    "\n"
   ]
  },
  {
   "cell_type": "code",
   "execution_count": 61,
   "metadata": {
    "collapsed": false
   },
   "outputs": [
    {
     "name": "stdout",
     "output_type": "stream",
     "text": [
      "['Lars', 'sinhrks', 'Rohan Ramanath', 'Gryllos Prokopis', 'Steven Seguin', 'Lilian Besson', 'Thomas Unterthiner', 'Daniel Kronovet', 'Dan Blanchard', 'Andrew Lamb', 'Dougal Sutherland', 'Alexey Grigorev', 'maheshakya', 'Skipper Seabold', 'Yucheng Low', 'Vincent', 'tokoroten', 'Ando Saabas', 'Alexandre Gramfort', 'Vighnesh Birodkar', 'Boyuan Deng', 'scls19fr', 'Peter Fischer', 'Ganiev Ibraim', 'Kyler Brown', 'Christopher Erick Moody', 'MaryanMorel', 'Tian Wang', 'Stephen Hoover', 'Joshua Loyal', 'Jaidev Deshpande', 'Cindy Sridharan', 'Allen Riddell', 'Ari Rouvinen', 'Zac Stewart', 'John Wittenauer', 'Eric Martin', 'Matti Lyra', 'Donne Martin', 'Martin Ku', 'Frank Zalkow', 'edson duarte', 'Jacob Schreiber', 'Joel Nothman', 'mbillinger', 'Manoj Kumar', 'martinosorb', 'Christof Angermueller', 'jfraj', 'John Kirkham', 'Danny Sullivan', 'SimonPL', 'Joseph', 'Varoquaux', 'Preston Parry', 'Jan Hendrik Metzen', 'Tim Head', 'Mathieu Blondel', 'Louis Tiao', 'Andreas Mueller', 'Fernando Carrillo', 'jnothman', 'Arnaud Rachez', 'trevorstephens', 'Steven De Gryze', 'akitty', 'David D Lowe', 'santi', 'Jeffrey04', 'Yury Zhauniarovich', 'Wei Xue', 'David', 'Graham Clenaghan', 'Maxim Kolganov', 'Joe Jevnik', 'Christophe Bourguignat', 'Vincent Michel', 'Aaron Schumacher', 'Olivier Grisel', 'Kashif Rasul', 'Data1010', 'Gilles Louppe', 'Anthony Erlinger', 'Nicolas', 'Jeremy', 'Eric Larson', 'Timothy Hopper', 'Jack Martin', 'Lars Buitinck', 'Matt Krump', 'Loic Esteve', 'Immanuel Bayer', 'Robert Layton', 'Giorgio Patrini', 'Michael Heilman', 'Tom DLT', 'unknown', 'Omer Katz', 'Masafumi Oyamada', 'Jake VanderPlas', 'Buddha Prakash', 'Shivan Sornarajah', 'gwulfs', 'Michael Patterson', 'Konstantin Shmelkov', 'Tiago Freitas Pereira', 'Nikolay Mayorov', 'Ishank Gulati', 'Erich Schubert', 'Saket Choudhary', 'mhg', 'Ankur Ankan', 'Keith Goodman', 'djipey', 'pianomania', 'Pauli Virtanen', 'Dmitry Spikhalskiy', 'Raghav R V', 'Sam Zhang', 'MechCoder', 'Brett Naul', 'banilo', 'Kian Ho', 'David Dotson', 'CJ Carey', 'Eduardo Caro', 'TomDLT', 'KamalakerDadi', 'Daniel Galvez', 'Miroslav Batchkarov', 'Ali Baharev', 'Arnaud Joly', 'Jean Kossaifi', 'Theodore Vasiloudis', 'Adithya Ganesh', 'MartinBpr', 'hlin117', 'Gael Varoquaux', 'Sebastian Saeger', 'Chi Zhang', 'benjaminirving', 'sseg', 'Valentin Stolbunov', 'Sonny Hu', 'wangz10', 'Raghav', 'JeanKossaifi', 'Zichen Wang', 'Peter Prettenhofer', 'Phil Roth', 'Jake Vanderplas', 'Martin Spacek', 'Anish Shah', 'Jiali Mei', 'Arthur Mensch', 'Rob Zinkov', 'Vinayak Mehta', 'rasbt', 'vstolbunov', 'giorgiop', 'Cory Lorenz', 'Brian McFee', 'Christoph Gohlke', 'Jungkook Park']\n"
     ]
    }
   ],
   "source": [
    "#Sort the authors to find the first and last authors, alphabetically. Make sure your data is clean! (No username should begin with an = sign, for example)\n",
    "\n",
    "#####List of Strings -> Sorted unique list\n",
    "\n",
    "\n",
    "sorted_authors = list(set(sorted([x for x in authors if ''.join(x.split()).isalnum()])))\n",
    "print sorted_authors\n"
   ]
  },
  {
   "cell_type": "code",
   "execution_count": null,
   "metadata": {
    "collapsed": false
   },
   "outputs": [],
   "source": [
    "# Think of what data types you can take advantage of"
   ]
  },
  {
   "cell_type": "markdown",
   "metadata": {},
   "source": [
    "To count out our data, we can loop over our list and construct a dictionary where the key is the commit author and the value increases whenever we match a key.\n",
    "#####List -> Dictionary"
   ]
  },
  {
   "cell_type": "code",
   "execution_count": 39,
   "metadata": {
    "collapsed": false
   },
   "outputs": [
    {
     "name": "stdout",
     "output_type": "stream",
     "text": [
      "{'Lars': 13, 'sinhrks': 2, 'Rohan Ramanath': 1, 'Gryllos Prokopis': 3, 'Steven Seguin': 4, 'Lilian Besson': 3, 'Thomas Unterthiner': 26, 'Daniel Kronovet': 3, 'Dan Blanchard': 1, 'Andrew Lamb': 5, 'Dougal Sutherland': 1, 'Alexey Grigorev': 1, 'maheshakya': 3, 'Raghav R V': 35, 'Jeremy': 1, 'Sam Zhang': 1, 'David Dotson': 2, 'Ando Saabas': 1, 'Alexandre Gramfort': 60, 'Vighnesh Birodkar': 7, 'Boyuan Deng': 3, 'Eric Larson': 1, 'Peter Fischer': 1, 'Ganiev Ibraim': 5, 'Kyler Brown': 1, 'Christopher Erick Moody': 1, 'MaryanMorel': 1, 'Tian Wang': 1, 'Stephen Hoover': 3, 'David D Lowe': 3, 'Jack Martin': 2, 'Cindy Sridharan': 3, 'Allen Riddell': 1, 'Ari Rouvinen': 1, 'Zac Stewart': 1, 'John Wittenauer': 2, 'Eric Martin': 1, 'Matti Lyra': 2, 'Donne Martin': 1, 'Martin Ku': 2, 'Lars Buitinck': 26, 'edson duarte': 1, 'Jacob Schreiber': 16, 'Joel Nothman': 37, 'mhg': 25, 'Manoj Kumar': 5, 'martinosorb': 5, 'Christof Angermueller': 1, 'jfraj': 3, 'John Kirkham': 1, 'Danny Sullivan': 1, 'SimonPL': 2, 'Robert Layton': 1, 'Joseph': 1, 'Varoquaux': 1, 'Preston Parry': 1, 'Jan Hendrik Metzen': 3, 'Tim Head': 14, 'Mathieu Blondel': 11, 'Louis Tiao': 2, 'Andreas Mueller': 235, 'Fernando Carrillo': 1, 'jnothman': 19, 'Arnaud Rachez': 1, 'trevorstephens': 11, 'Steven De Gryze': 3, 'akitty': 1, 'Jeffrey04': 1, 'Yury Zhauniarovich': 1, 'Wei Xue': 8, 'Joe Jevnik': 2, 'Graham Clenaghan': 2, 'Daniel Galvez': 6, 'David': 1, 'santi': 1, 'Vincent Michel': 1, 'Aaron Schumacher': 1, 'Olivier Grisel': 151, 'Kashif Rasul': 1, 'Data1010': 2, 'Gilles Louppe': 43, 'Anthony Erlinger': 5, 'Nicolas': 1, 'Yucheng Low': 1, 'scls19fr': 2, 'Timothy Hopper': 1, 'Jaidev Deshpande': 1, 'Frank Zalkow': 9, 'Matt Krump': 2, 'Loic Esteve': 2, 'Immanuel Bayer': 2, 'tokoroten': 5, 'Giorgio Patrini': 1, 'Ali Baharev': 1, 'Martin Spacek': 2, 'Tom DLT': 1, 'unknown': 5, 'Omer Katz': 1, 'Masafumi Oyamada': 1, 'Jake VanderPlas': 6, 'Buddha Prakash': 7, 'Shivan Sornarajah': 1, 'gwulfs': 2, 'Michael Patterson': 2, 'Konstantin Shmelkov': 1, 'Nikolay Mayorov': 1, 'Ishank Gulati': 1, 'Erich Schubert': 1, 'Saket Choudhary': 2, 'Ankur Ankan': 1, 'Keith Goodman': 1, 'djipey': 5, 'pianomania': 3, 'Pauli Virtanen': 1, 'Dmitry Spikhalskiy': 1, 'Skipper Seabold': 2, 'Vincent': 1, 'MechCoder': 20, 'Brett Naul': 2, 'Kian Ho': 5, 'mbillinger': 4, 'CJ Carey': 4, 'Eduardo Caro': 1, 'TomDLT': 18, 'KamalakerDadi': 1, 'Maxim Kolganov': 2, 'Tiago Freitas Pereira': 1, 'Michael Heilman': 2, 'Arnaud Joly': 21, 'Cory Lorenz': 2, 'Jean Kossaifi': 1, 'Theodore Vasiloudis': 1, 'Adithya Ganesh': 5, 'MartinBpr': 1, 'hlin117': 5, 'Gael Varoquaux': 58, 'banilo': 1, 'Chi Zhang': 2, 'benjaminirving': 1, 'sseg': 1, 'Valentin Stolbunov': 1, 'Sonny Hu': 2, 'wangz10': 2, 'Sebastian Saeger': 10, 'Raghav': 1, 'JeanKossaifi': 1, 'Zichen Wang': 3, 'Peter Prettenhofer': 5, 'Phil Roth': 9, 'Jake Vanderplas': 1, 'Joshua Loyal': 3, 'Anish Shah': 1, 'Jiali Mei': 1, 'Arthur Mensch': 4, 'Rob Zinkov': 1, 'Vinayak Mehta': 13, 'rasbt': 10, 'vstolbunov': 2, 'giorgiop': 4, 'Miroslav Batchkarov': 4, 'Christophe Bourguignat': 5, 'Brian McFee': 1, 'Christoph Gohlke': 1, 'Jungkook Park': 1}\n"
     ]
    }
   ],
   "source": [
    "author_dict = {}\n",
    "for y in sorted_authors:\n",
    "    author_dict[y] = authors.count(y)\n",
    "print author_dict"
   ]
  },
  {
   "cell_type": "markdown",
   "metadata": {},
   "source": [
    "Find the contributor with the highest number of commits. Useful dictionary method: `dict.get()`\n",
    "\n",
    "#####Dictionary -> Specific String"
   ]
  },
  {
   "cell_type": "code",
   "execution_count": 51,
   "metadata": {
    "collapsed": false
   },
   "outputs": [
    {
     "data": {
      "text/plain": [
       "'Andreas Mueller'"
      ]
     },
     "execution_count": 51,
     "metadata": {},
     "output_type": "execute_result"
    }
   ],
   "source": [
    "max(author_dict, key = author_dict.get)\n"
   ]
  },
  {
   "cell_type": "markdown",
   "metadata": {},
   "source": [
    "Bonus: how do you handle a tie? Can you pull all authors with the lowest number of commits (without hardcoding the minimum)."
   ]
  },
  {
   "cell_type": "code",
   "execution_count": 59,
   "metadata": {
    "collapsed": false
   },
   "outputs": [
    {
     "name": "stdout",
     "output_type": "stream",
     "text": [
      "Rohan Ramanath\n",
      "Dan Blanchard\n",
      "Dougal Sutherland\n",
      "Alexey Grigorev\n",
      "Jeremy\n",
      "Sam Zhang\n",
      "Ando Saabas\n",
      "Eric Larson\n",
      "Peter Fischer\n",
      "Kyler Brown\n",
      "Christopher Erick Moody\n",
      "MaryanMorel\n",
      "Tian Wang\n",
      "Allen Riddell\n",
      "Ari Rouvinen\n",
      "Zac Stewart\n",
      "Eric Martin\n",
      "Donne Martin\n",
      "edson duarte\n",
      "Christof Angermueller\n",
      "John Kirkham\n",
      "Danny Sullivan\n",
      "Robert Layton\n",
      "Joseph\n",
      "Varoquaux\n",
      "Preston Parry\n",
      "Fernando Carrillo\n",
      "Arnaud Rachez\n",
      "akitty\n",
      "Jeffrey04\n",
      "Yury Zhauniarovich\n",
      "David\n",
      "santi\n",
      "Vincent Michel\n",
      "Aaron Schumacher\n",
      "Kashif Rasul\n",
      "Nicolas\n",
      "Yucheng Low\n",
      "Timothy Hopper\n",
      "Jaidev Deshpande\n",
      "Giorgio Patrini\n",
      "Ali Baharev\n",
      "Tom DLT\n",
      "Omer Katz\n",
      "Masafumi Oyamada\n",
      "Shivan Sornarajah\n",
      "Konstantin Shmelkov\n",
      "Nikolay Mayorov\n",
      "Ishank Gulati\n",
      "Erich Schubert\n",
      "Ankur Ankan\n",
      "Keith Goodman\n",
      "Pauli Virtanen\n",
      "Dmitry Spikhalskiy\n",
      "Vincent\n",
      "Eduardo Caro\n",
      "KamalakerDadi\n",
      "Tiago Freitas Pereira\n",
      "Jean Kossaifi\n",
      "Theodore Vasiloudis\n",
      "MartinBpr\n",
      "banilo\n",
      "benjaminirving\n",
      "sseg\n",
      "Valentin Stolbunov\n",
      "Raghav\n",
      "JeanKossaifi\n",
      "Jake Vanderplas\n",
      "Anish Shah\n",
      "Jiali Mei\n",
      "Rob Zinkov\n",
      "Brian McFee\n",
      "Christoph Gohlke\n",
      "Jungkook Park\n"
     ]
    }
   ],
   "source": [
    "lowest_authors = []\n",
    "for name, count in author_dict.iteritems():\n",
    "    if count == min(author_dict.values()):\n",
    "        lowest_authors.append(name)\n",
    "        \n",
    "print '\\n'.join(lowest_authors)\n",
    "        "
   ]
  },
  {
   "cell_type": "code",
   "execution_count": null,
   "metadata": {
    "collapsed": true
   },
   "outputs": [],
   "source": []
  }
 ],
 "metadata": {
  "kernelspec": {
   "display_name": "Python 2",
   "language": "python",
   "name": "python2"
  },
  "language_info": {
   "codemirror_mode": {
    "name": "ipython",
    "version": 2
   },
   "file_extension": ".py",
   "mimetype": "text/x-python",
   "name": "python",
   "nbconvert_exporter": "python",
   "pygments_lexer": "ipython2",
   "version": "2.7.10"
  }
 },
 "nbformat": 4,
 "nbformat_minor": 0
}
