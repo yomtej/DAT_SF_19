{
 "cells": [
  {
   "cell_type": "code",
   "execution_count": 2,
   "metadata": {
    "collapsed": false
   },
   "outputs": [],
   "source": [
    "import pandas as pd"
   ]
  },
  {
   "cell_type": "code",
   "execution_count": 3,
   "metadata": {
    "collapsed": true
   },
   "outputs": [],
   "source": [
    "feedback = pd.read_csv('feedback.csv')"
   ]
  },
  {
   "cell_type": "code",
   "execution_count": 17,
   "metadata": {
    "collapsed": false
   },
   "outputs": [],
   "source": [
    "feedlist = list(feedback['Please select all of the parent campaigns you would like to use in 2016'])"
   ]
  },
  {
   "cell_type": "code",
   "execution_count": 19,
   "metadata": {
    "collapsed": false
   },
   "outputs": [
    {
     "data": {
      "text/plain": [
       "['GSI (Partner), MMGOBig (EA / MM Campaigns)',\n",
       " 'ATMOLIVE, MMGOBig (EA / MM Campaigns), NURT (Always on Nurture)',\n",
       " 'ATMOLIVE, COLLAB (Collaboration), HOA (Hangout on Air), INDCON (Industry Conferences), NURT (Always on Nurture)',\n",
       " 'ATMOLIVE, MMGOBig (EA / MM Campaigns), NURT (Always on Nurture)',\n",
       " 'ABM (Account Based Marketing), ATMOLIVE, MMGOBig (EA / MM Campaigns)',\n",
       " 'ATMOLIVE, HOA (Hangout on Air), MMGOBig (EA / MM Campaigns), NURT (Always on Nurture)',\n",
       " 'ABM (Account Based Marketing), ATMOLIVE, COLLAB (Collaboration), FASTG (Fast Grow), HOA (Hangout on Air), MMGOBig (EA / MM Campaigns), NURT (Always on Nurture)',\n",
       " 'ABM (Account Based Marketing), ATMOLIVE, INDCON (Industry Conferences), TECHT (Tech Talks)',\n",
       " 'ABM (Account Based Marketing), ATMOLIVE, COLLAB (Collaboration), FASTG (Fast Grow), GSI (Partner), HOA (Hangout on Air), INDCON (Industry Conferences), MMGOBig (EA / MM Campaigns), NURT (Always on Nurture), SHDIT (Shadow IT)',\n",
       " 'ABM (Account Based Marketing), ATMOLIVE, MMGOBig (EA / MM Campaigns)',\n",
       " 'ATMOLIVE, GSI (Partner), INDCON (Industry Conferences), MMGOBig (EA / MM Campaigns), NURT (Always on Nurture)',\n",
       " 'ATMOLIVE, COLLAB (Collaboration), FASTG (Fast Grow), MMGOBig (EA / MM Campaigns), NURT (Always on Nurture), SHDIT (Shadow IT)',\n",
       " 'HOA (Hangout on Air), MMGOBig (EA / MM Campaigns), NURT (Always on Nurture)',\n",
       " 'ABM (Account Based Marketing), ATMOLIVE, INDCON (Industry Conferences), MMGOBig (EA / MM Campaigns), NURT (Always on Nurture)',\n",
       " 'ABM (Account Based Marketing), ATMOLIVE, MMGOBig (EA / MM Campaigns)',\n",
       " 'ABM (Account Based Marketing), ATMOLIVE, GSI (Partner), HOA (Hangout on Air), INDCON (Industry Conferences), MMGOBig (EA / MM Campaigns), NURT (Always on Nurture)',\n",
       " 'NONE (N/A)',\n",
       " 'ABM (Account Based Marketing), ATMOLIVE, NURT (Always on Nurture)',\n",
       " 'COLLAB (Collaboration), GSI (Partner), MMGOBig (EA / MM Campaigns)',\n",
       " 'NURT (Always on Nurture)',\n",
       " 'ABM (Account Based Marketing), ATMOLIVE, GSI (Partner), INDCON (Industry Conferences), MMGOBig (EA / MM Campaigns), NURT (Always on Nurture), TECHT (Tech Talks)',\n",
       " 'ATMOLIVE, MMGOBig (EA / MM Campaigns)']"
      ]
     },
     "execution_count": 19,
     "metadata": {},
     "output_type": "execute_result"
    }
   ],
   "source": [
    "feedlist"
   ]
  },
  {
   "cell_type": "code",
   "execution_count": 21,
   "metadata": {
    "collapsed": false
   },
   "outputs": [
    {
     "data": {
      "text/plain": [
       "'GSI (Partner), MMGOBig (EA / MM Campaigns)'"
      ]
     },
     "execution_count": 21,
     "metadata": {},
     "output_type": "execute_result"
    }
   ],
   "source": [
    "feedlist[0]"
   ]
  },
  {
   "cell_type": "code",
   "execution_count": 22,
   "metadata": {
    "collapsed": false
   },
   "outputs": [
    {
     "data": {
      "text/plain": [
       "['GSI', '(Partner),', 'MMGOBig', '(EA', '/', 'MM', 'Campaigns)']"
      ]
     },
     "execution_count": 22,
     "metadata": {},
     "output_type": "execute_result"
    }
   ],
   "source": [
    "feedlist[0].split()"
   ]
  },
  {
   "cell_type": "code",
   "execution_count": 23,
   "metadata": {
    "collapsed": false
   },
   "outputs": [
    {
     "data": {
      "text/plain": [
       "['GSI (Partner)', ' MMGOBig (EA / MM Campaigns)']"
      ]
     },
     "execution_count": 23,
     "metadata": {},
     "output_type": "execute_result"
    }
   ],
   "source": [
    "feedlist[0].split(',')"
   ]
  },
  {
   "cell_type": "code",
   "execution_count": 47,
   "metadata": {
    "collapsed": false
   },
   "outputs": [],
   "source": [
    "a = []\n",
    "for x in range(len(feedlist)):\n",
    "    for y in feedlist[x].split(','):\n",
    "        a.append(y.strip(' '))"
   ]
  },
  {
   "cell_type": "code",
   "execution_count": 48,
   "metadata": {
    "collapsed": false
   },
   "outputs": [
    {
     "data": {
      "text/plain": [
       "['GSI (Partner)',\n",
       " 'MMGOBig (EA / MM Campaigns)',\n",
       " 'ATMOLIVE',\n",
       " 'MMGOBig (EA / MM Campaigns)',\n",
       " 'NURT (Always on Nurture)',\n",
       " 'ATMOLIVE',\n",
       " 'COLLAB (Collaboration)',\n",
       " 'HOA (Hangout on Air)',\n",
       " 'INDCON (Industry Conferences)',\n",
       " 'NURT (Always on Nurture)',\n",
       " 'ATMOLIVE',\n",
       " 'MMGOBig (EA / MM Campaigns)',\n",
       " 'NURT (Always on Nurture)',\n",
       " 'ABM (Account Based Marketing)',\n",
       " 'ATMOLIVE',\n",
       " 'MMGOBig (EA / MM Campaigns)',\n",
       " 'ATMOLIVE',\n",
       " 'HOA (Hangout on Air)',\n",
       " 'MMGOBig (EA / MM Campaigns)',\n",
       " 'NURT (Always on Nurture)',\n",
       " 'ABM (Account Based Marketing)',\n",
       " 'ATMOLIVE',\n",
       " 'COLLAB (Collaboration)',\n",
       " 'FASTG (Fast Grow)',\n",
       " 'HOA (Hangout on Air)',\n",
       " 'MMGOBig (EA / MM Campaigns)',\n",
       " 'NURT (Always on Nurture)',\n",
       " 'ABM (Account Based Marketing)',\n",
       " 'ATMOLIVE',\n",
       " 'INDCON (Industry Conferences)',\n",
       " 'TECHT (Tech Talks)',\n",
       " 'ABM (Account Based Marketing)',\n",
       " 'ATMOLIVE',\n",
       " 'COLLAB (Collaboration)',\n",
       " 'FASTG (Fast Grow)',\n",
       " 'GSI (Partner)',\n",
       " 'HOA (Hangout on Air)',\n",
       " 'INDCON (Industry Conferences)',\n",
       " 'MMGOBig (EA / MM Campaigns)',\n",
       " 'NURT (Always on Nurture)',\n",
       " 'SHDIT (Shadow IT)',\n",
       " 'ABM (Account Based Marketing)',\n",
       " 'ATMOLIVE',\n",
       " 'MMGOBig (EA / MM Campaigns)',\n",
       " 'ATMOLIVE',\n",
       " 'GSI (Partner)',\n",
       " 'INDCON (Industry Conferences)',\n",
       " 'MMGOBig (EA / MM Campaigns)',\n",
       " 'NURT (Always on Nurture)',\n",
       " 'ATMOLIVE',\n",
       " 'COLLAB (Collaboration)',\n",
       " 'FASTG (Fast Grow)',\n",
       " 'MMGOBig (EA / MM Campaigns)',\n",
       " 'NURT (Always on Nurture)',\n",
       " 'SHDIT (Shadow IT)',\n",
       " 'HOA (Hangout on Air)',\n",
       " 'MMGOBig (EA / MM Campaigns)',\n",
       " 'NURT (Always on Nurture)',\n",
       " 'ABM (Account Based Marketing)',\n",
       " 'ATMOLIVE',\n",
       " 'INDCON (Industry Conferences)',\n",
       " 'MMGOBig (EA / MM Campaigns)',\n",
       " 'NURT (Always on Nurture)',\n",
       " 'ABM (Account Based Marketing)',\n",
       " 'ATMOLIVE',\n",
       " 'MMGOBig (EA / MM Campaigns)',\n",
       " 'ABM (Account Based Marketing)',\n",
       " 'ATMOLIVE',\n",
       " 'GSI (Partner)',\n",
       " 'HOA (Hangout on Air)',\n",
       " 'INDCON (Industry Conferences)',\n",
       " 'MMGOBig (EA / MM Campaigns)',\n",
       " 'NURT (Always on Nurture)',\n",
       " 'NONE (N/A)',\n",
       " 'ABM (Account Based Marketing)',\n",
       " 'ATMOLIVE',\n",
       " 'NURT (Always on Nurture)',\n",
       " 'COLLAB (Collaboration)',\n",
       " 'GSI (Partner)',\n",
       " 'MMGOBig (EA / MM Campaigns)',\n",
       " 'NURT (Always on Nurture)',\n",
       " 'ABM (Account Based Marketing)',\n",
       " 'ATMOLIVE',\n",
       " 'GSI (Partner)',\n",
       " 'INDCON (Industry Conferences)',\n",
       " 'MMGOBig (EA / MM Campaigns)',\n",
       " 'NURT (Always on Nurture)',\n",
       " 'TECHT (Tech Talks)',\n",
       " 'ATMOLIVE',\n",
       " 'MMGOBig (EA / MM Campaigns)']"
      ]
     },
     "execution_count": 48,
     "metadata": {},
     "output_type": "execute_result"
    }
   ],
   "source": [
    "a"
   ]
  },
  {
   "cell_type": "code",
   "execution_count": 49,
   "metadata": {
    "collapsed": false
   },
   "outputs": [],
   "source": [
    "import numpy as np\n",
    "\n",
    "a = pd.DataFrame(a)"
   ]
  },
  {
   "cell_type": "code",
   "execution_count": 50,
   "metadata": {
    "collapsed": false
   },
   "outputs": [
    {
     "data": {
      "text/html": [
       "<div>\n",
       "<table border=\"1\" class=\"dataframe\">\n",
       "  <thead>\n",
       "    <tr style=\"text-align: right;\">\n",
       "      <th></th>\n",
       "      <th>0</th>\n",
       "    </tr>\n",
       "  </thead>\n",
       "  <tbody>\n",
       "    <tr>\n",
       "      <th>0</th>\n",
       "      <td>GSI (Partner)</td>\n",
       "    </tr>\n",
       "    <tr>\n",
       "      <th>1</th>\n",
       "      <td>MMGOBig (EA / MM Campaigns)</td>\n",
       "    </tr>\n",
       "    <tr>\n",
       "      <th>2</th>\n",
       "      <td>ATMOLIVE</td>\n",
       "    </tr>\n",
       "    <tr>\n",
       "      <th>3</th>\n",
       "      <td>MMGOBig (EA / MM Campaigns)</td>\n",
       "    </tr>\n",
       "    <tr>\n",
       "      <th>4</th>\n",
       "      <td>NURT (Always on Nurture)</td>\n",
       "    </tr>\n",
       "    <tr>\n",
       "      <th>5</th>\n",
       "      <td>ATMOLIVE</td>\n",
       "    </tr>\n",
       "    <tr>\n",
       "      <th>6</th>\n",
       "      <td>COLLAB (Collaboration)</td>\n",
       "    </tr>\n",
       "    <tr>\n",
       "      <th>7</th>\n",
       "      <td>HOA (Hangout on Air)</td>\n",
       "    </tr>\n",
       "    <tr>\n",
       "      <th>8</th>\n",
       "      <td>INDCON (Industry Conferences)</td>\n",
       "    </tr>\n",
       "    <tr>\n",
       "      <th>9</th>\n",
       "      <td>NURT (Always on Nurture)</td>\n",
       "    </tr>\n",
       "    <tr>\n",
       "      <th>10</th>\n",
       "      <td>ATMOLIVE</td>\n",
       "    </tr>\n",
       "    <tr>\n",
       "      <th>11</th>\n",
       "      <td>MMGOBig (EA / MM Campaigns)</td>\n",
       "    </tr>\n",
       "    <tr>\n",
       "      <th>12</th>\n",
       "      <td>NURT (Always on Nurture)</td>\n",
       "    </tr>\n",
       "    <tr>\n",
       "      <th>13</th>\n",
       "      <td>ABM (Account Based Marketing)</td>\n",
       "    </tr>\n",
       "    <tr>\n",
       "      <th>14</th>\n",
       "      <td>ATMOLIVE</td>\n",
       "    </tr>\n",
       "    <tr>\n",
       "      <th>15</th>\n",
       "      <td>MMGOBig (EA / MM Campaigns)</td>\n",
       "    </tr>\n",
       "    <tr>\n",
       "      <th>16</th>\n",
       "      <td>ATMOLIVE</td>\n",
       "    </tr>\n",
       "    <tr>\n",
       "      <th>17</th>\n",
       "      <td>HOA (Hangout on Air)</td>\n",
       "    </tr>\n",
       "    <tr>\n",
       "      <th>18</th>\n",
       "      <td>MMGOBig (EA / MM Campaigns)</td>\n",
       "    </tr>\n",
       "    <tr>\n",
       "      <th>19</th>\n",
       "      <td>NURT (Always on Nurture)</td>\n",
       "    </tr>\n",
       "    <tr>\n",
       "      <th>20</th>\n",
       "      <td>ABM (Account Based Marketing)</td>\n",
       "    </tr>\n",
       "    <tr>\n",
       "      <th>21</th>\n",
       "      <td>ATMOLIVE</td>\n",
       "    </tr>\n",
       "    <tr>\n",
       "      <th>22</th>\n",
       "      <td>COLLAB (Collaboration)</td>\n",
       "    </tr>\n",
       "    <tr>\n",
       "      <th>23</th>\n",
       "      <td>FASTG (Fast Grow)</td>\n",
       "    </tr>\n",
       "    <tr>\n",
       "      <th>24</th>\n",
       "      <td>HOA (Hangout on Air)</td>\n",
       "    </tr>\n",
       "    <tr>\n",
       "      <th>25</th>\n",
       "      <td>MMGOBig (EA / MM Campaigns)</td>\n",
       "    </tr>\n",
       "    <tr>\n",
       "      <th>26</th>\n",
       "      <td>NURT (Always on Nurture)</td>\n",
       "    </tr>\n",
       "    <tr>\n",
       "      <th>27</th>\n",
       "      <td>ABM (Account Based Marketing)</td>\n",
       "    </tr>\n",
       "    <tr>\n",
       "      <th>28</th>\n",
       "      <td>ATMOLIVE</td>\n",
       "    </tr>\n",
       "    <tr>\n",
       "      <th>29</th>\n",
       "      <td>INDCON (Industry Conferences)</td>\n",
       "    </tr>\n",
       "    <tr>\n",
       "      <th>...</th>\n",
       "      <td>...</td>\n",
       "    </tr>\n",
       "    <tr>\n",
       "      <th>60</th>\n",
       "      <td>INDCON (Industry Conferences)</td>\n",
       "    </tr>\n",
       "    <tr>\n",
       "      <th>61</th>\n",
       "      <td>MMGOBig (EA / MM Campaigns)</td>\n",
       "    </tr>\n",
       "    <tr>\n",
       "      <th>62</th>\n",
       "      <td>NURT (Always on Nurture)</td>\n",
       "    </tr>\n",
       "    <tr>\n",
       "      <th>63</th>\n",
       "      <td>ABM (Account Based Marketing)</td>\n",
       "    </tr>\n",
       "    <tr>\n",
       "      <th>64</th>\n",
       "      <td>ATMOLIVE</td>\n",
       "    </tr>\n",
       "    <tr>\n",
       "      <th>65</th>\n",
       "      <td>MMGOBig (EA / MM Campaigns)</td>\n",
       "    </tr>\n",
       "    <tr>\n",
       "      <th>66</th>\n",
       "      <td>ABM (Account Based Marketing)</td>\n",
       "    </tr>\n",
       "    <tr>\n",
       "      <th>67</th>\n",
       "      <td>ATMOLIVE</td>\n",
       "    </tr>\n",
       "    <tr>\n",
       "      <th>68</th>\n",
       "      <td>GSI (Partner)</td>\n",
       "    </tr>\n",
       "    <tr>\n",
       "      <th>69</th>\n",
       "      <td>HOA (Hangout on Air)</td>\n",
       "    </tr>\n",
       "    <tr>\n",
       "      <th>70</th>\n",
       "      <td>INDCON (Industry Conferences)</td>\n",
       "    </tr>\n",
       "    <tr>\n",
       "      <th>71</th>\n",
       "      <td>MMGOBig (EA / MM Campaigns)</td>\n",
       "    </tr>\n",
       "    <tr>\n",
       "      <th>72</th>\n",
       "      <td>NURT (Always on Nurture)</td>\n",
       "    </tr>\n",
       "    <tr>\n",
       "      <th>73</th>\n",
       "      <td>NONE (N/A)</td>\n",
       "    </tr>\n",
       "    <tr>\n",
       "      <th>74</th>\n",
       "      <td>ABM (Account Based Marketing)</td>\n",
       "    </tr>\n",
       "    <tr>\n",
       "      <th>75</th>\n",
       "      <td>ATMOLIVE</td>\n",
       "    </tr>\n",
       "    <tr>\n",
       "      <th>76</th>\n",
       "      <td>NURT (Always on Nurture)</td>\n",
       "    </tr>\n",
       "    <tr>\n",
       "      <th>77</th>\n",
       "      <td>COLLAB (Collaboration)</td>\n",
       "    </tr>\n",
       "    <tr>\n",
       "      <th>78</th>\n",
       "      <td>GSI (Partner)</td>\n",
       "    </tr>\n",
       "    <tr>\n",
       "      <th>79</th>\n",
       "      <td>MMGOBig (EA / MM Campaigns)</td>\n",
       "    </tr>\n",
       "    <tr>\n",
       "      <th>80</th>\n",
       "      <td>NURT (Always on Nurture)</td>\n",
       "    </tr>\n",
       "    <tr>\n",
       "      <th>81</th>\n",
       "      <td>ABM (Account Based Marketing)</td>\n",
       "    </tr>\n",
       "    <tr>\n",
       "      <th>82</th>\n",
       "      <td>ATMOLIVE</td>\n",
       "    </tr>\n",
       "    <tr>\n",
       "      <th>83</th>\n",
       "      <td>GSI (Partner)</td>\n",
       "    </tr>\n",
       "    <tr>\n",
       "      <th>84</th>\n",
       "      <td>INDCON (Industry Conferences)</td>\n",
       "    </tr>\n",
       "    <tr>\n",
       "      <th>85</th>\n",
       "      <td>MMGOBig (EA / MM Campaigns)</td>\n",
       "    </tr>\n",
       "    <tr>\n",
       "      <th>86</th>\n",
       "      <td>NURT (Always on Nurture)</td>\n",
       "    </tr>\n",
       "    <tr>\n",
       "      <th>87</th>\n",
       "      <td>TECHT (Tech Talks)</td>\n",
       "    </tr>\n",
       "    <tr>\n",
       "      <th>88</th>\n",
       "      <td>ATMOLIVE</td>\n",
       "    </tr>\n",
       "    <tr>\n",
       "      <th>89</th>\n",
       "      <td>MMGOBig (EA / MM Campaigns)</td>\n",
       "    </tr>\n",
       "  </tbody>\n",
       "</table>\n",
       "<p>90 rows × 1 columns</p>\n",
       "</div>"
      ],
      "text/plain": [
       "                                0\n",
       "0                   GSI (Partner)\n",
       "1     MMGOBig (EA / MM Campaigns)\n",
       "2                        ATMOLIVE\n",
       "3     MMGOBig (EA / MM Campaigns)\n",
       "4        NURT (Always on Nurture)\n",
       "5                        ATMOLIVE\n",
       "6          COLLAB (Collaboration)\n",
       "7            HOA (Hangout on Air)\n",
       "8   INDCON (Industry Conferences)\n",
       "9        NURT (Always on Nurture)\n",
       "10                       ATMOLIVE\n",
       "11    MMGOBig (EA / MM Campaigns)\n",
       "12       NURT (Always on Nurture)\n",
       "13  ABM (Account Based Marketing)\n",
       "14                       ATMOLIVE\n",
       "15    MMGOBig (EA / MM Campaigns)\n",
       "16                       ATMOLIVE\n",
       "17           HOA (Hangout on Air)\n",
       "18    MMGOBig (EA / MM Campaigns)\n",
       "19       NURT (Always on Nurture)\n",
       "20  ABM (Account Based Marketing)\n",
       "21                       ATMOLIVE\n",
       "22         COLLAB (Collaboration)\n",
       "23              FASTG (Fast Grow)\n",
       "24           HOA (Hangout on Air)\n",
       "25    MMGOBig (EA / MM Campaigns)\n",
       "26       NURT (Always on Nurture)\n",
       "27  ABM (Account Based Marketing)\n",
       "28                       ATMOLIVE\n",
       "29  INDCON (Industry Conferences)\n",
       "..                            ...\n",
       "60  INDCON (Industry Conferences)\n",
       "61    MMGOBig (EA / MM Campaigns)\n",
       "62       NURT (Always on Nurture)\n",
       "63  ABM (Account Based Marketing)\n",
       "64                       ATMOLIVE\n",
       "65    MMGOBig (EA / MM Campaigns)\n",
       "66  ABM (Account Based Marketing)\n",
       "67                       ATMOLIVE\n",
       "68                  GSI (Partner)\n",
       "69           HOA (Hangout on Air)\n",
       "70  INDCON (Industry Conferences)\n",
       "71    MMGOBig (EA / MM Campaigns)\n",
       "72       NURT (Always on Nurture)\n",
       "73                     NONE (N/A)\n",
       "74  ABM (Account Based Marketing)\n",
       "75                       ATMOLIVE\n",
       "76       NURT (Always on Nurture)\n",
       "77         COLLAB (Collaboration)\n",
       "78                  GSI (Partner)\n",
       "79    MMGOBig (EA / MM Campaigns)\n",
       "80       NURT (Always on Nurture)\n",
       "81  ABM (Account Based Marketing)\n",
       "82                       ATMOLIVE\n",
       "83                  GSI (Partner)\n",
       "84  INDCON (Industry Conferences)\n",
       "85    MMGOBig (EA / MM Campaigns)\n",
       "86       NURT (Always on Nurture)\n",
       "87             TECHT (Tech Talks)\n",
       "88                       ATMOLIVE\n",
       "89    MMGOBig (EA / MM Campaigns)\n",
       "\n",
       "[90 rows x 1 columns]"
      ]
     },
     "execution_count": 50,
     "metadata": {},
     "output_type": "execute_result"
    }
   ],
   "source": [
    "a"
   ]
  },
  {
   "cell_type": "code",
   "execution_count": 52,
   "metadata": {
    "collapsed": false
   },
   "outputs": [
    {
     "data": {
      "text/plain": [
       "pandas.core.frame.DataFrame"
      ]
     },
     "execution_count": 52,
     "metadata": {},
     "output_type": "execute_result"
    }
   ],
   "source": [
    "type(a)\n"
   ]
  },
  {
   "cell_type": "code",
   "execution_count": 54,
   "metadata": {
    "collapsed": false
   },
   "outputs": [
    {
     "data": {
      "text/plain": [
       "ATMOLIVE                         17\n",
       "MMGOBig (EA / MM Campaigns)      17\n",
       "NURT (Always on Nurture)         14\n",
       "ABM (Account Based Marketing)    10\n",
       "INDCON (Industry Conferences)     7\n",
       "HOA (Hangout on Air)              6\n",
       "GSI (Partner)                     6\n",
       "COLLAB (Collaboration)            5\n",
       "FASTG (Fast Grow)                 3\n",
       "SHDIT (Shadow IT)                 2\n",
       "TECHT (Tech Talks)                2\n",
       "NONE (N/A)                        1\n",
       "Name: 0, dtype: int64"
      ]
     },
     "execution_count": 54,
     "metadata": {},
     "output_type": "execute_result"
    }
   ],
   "source": [
    "a[0].value_counts()"
   ]
  },
  {
   "cell_type": "code",
   "execution_count": null,
   "metadata": {
    "collapsed": true
   },
   "outputs": [],
   "source": []
  }
 ],
 "metadata": {
  "kernelspec": {
   "display_name": "Python 2",
   "language": "python",
   "name": "python2"
  },
  "language_info": {
   "codemirror_mode": {
    "name": "ipython",
    "version": 2
   },
   "file_extension": ".py",
   "mimetype": "text/x-python",
   "name": "python",
   "nbconvert_exporter": "python",
   "pygments_lexer": "ipython2",
   "version": "2.7.11"
  }
 },
 "nbformat": 4,
 "nbformat_minor": 0
}
