{
 "cells": [
  {
   "cell_type": "code",
   "execution_count": 1,
   "metadata": {
    "collapsed": true
   },
   "outputs": [],
   "source": [
    "from __future__ import division\n",
    "import pandas as pd\n",
    "import numpy as np\n",
    "import matplotlib.pyplot as plt\n",
    "from sklearn.datasets import load_iris\n",
    "\n",
    "from matplotlib.colors import ListedColormap\n",
    "from sklearn import neighbors, datasets, feature_selection\n",
    "from sklearn.cross_validation import train_test_split, cross_val_score"
   ]
  },
  {
   "cell_type": "code",
   "execution_count": 2,
   "metadata": {
    "collapsed": true
   },
   "outputs": [],
   "source": [
    "n_neighbors = range(1,51,2)"
   ]
  },
  {
   "cell_type": "code",
   "execution_count": 3,
   "metadata": {
    "collapsed": false
   },
   "outputs": [
    {
     "data": {
      "text/plain": [
       "[1,\n",
       " 3,\n",
       " 5,\n",
       " 7,\n",
       " 9,\n",
       " 11,\n",
       " 13,\n",
       " 15,\n",
       " 17,\n",
       " 19,\n",
       " 21,\n",
       " 23,\n",
       " 25,\n",
       " 27,\n",
       " 29,\n",
       " 31,\n",
       " 33,\n",
       " 35,\n",
       " 37,\n",
       " 39,\n",
       " 41,\n",
       " 43,\n",
       " 45,\n",
       " 47,\n",
       " 49]"
      ]
     },
     "execution_count": 3,
     "metadata": {},
     "output_type": "execute_result"
    }
   ],
   "source": [
    "n_neighbors"
   ]
  },
  {
   "cell_type": "code",
   "execution_count": 4,
   "metadata": {
    "collapsed": true
   },
   "outputs": [],
   "source": [
    "iris = datasets.load_iris()\n",
    "iris_df = pd.DataFrame(iris.data, columns=iris.feature_names)"
   ]
  },
  {
   "cell_type": "code",
   "execution_count": 5,
   "metadata": {
    "collapsed": false
   },
   "outputs": [
    {
     "data": {
      "text/html": [
       "<div>\n",
       "<table border=\"1\" class=\"dataframe\">\n",
       "  <thead>\n",
       "    <tr style=\"text-align: right;\">\n",
       "      <th></th>\n",
       "      <th>sepal length (cm)</th>\n",
       "      <th>sepal width (cm)</th>\n",
       "      <th>petal length (cm)</th>\n",
       "      <th>petal width (cm)</th>\n",
       "    </tr>\n",
       "  </thead>\n",
       "  <tbody>\n",
       "    <tr>\n",
       "      <th>count</th>\n",
       "      <td>150.000000</td>\n",
       "      <td>150.000000</td>\n",
       "      <td>150.000000</td>\n",
       "      <td>150.000000</td>\n",
       "    </tr>\n",
       "    <tr>\n",
       "      <th>mean</th>\n",
       "      <td>5.843333</td>\n",
       "      <td>3.054000</td>\n",
       "      <td>3.758667</td>\n",
       "      <td>1.198667</td>\n",
       "    </tr>\n",
       "    <tr>\n",
       "      <th>std</th>\n",
       "      <td>0.828066</td>\n",
       "      <td>0.433594</td>\n",
       "      <td>1.764420</td>\n",
       "      <td>0.763161</td>\n",
       "    </tr>\n",
       "    <tr>\n",
       "      <th>min</th>\n",
       "      <td>4.300000</td>\n",
       "      <td>2.000000</td>\n",
       "      <td>1.000000</td>\n",
       "      <td>0.100000</td>\n",
       "    </tr>\n",
       "    <tr>\n",
       "      <th>25%</th>\n",
       "      <td>5.100000</td>\n",
       "      <td>2.800000</td>\n",
       "      <td>1.600000</td>\n",
       "      <td>0.300000</td>\n",
       "    </tr>\n",
       "    <tr>\n",
       "      <th>50%</th>\n",
       "      <td>5.800000</td>\n",
       "      <td>3.000000</td>\n",
       "      <td>4.350000</td>\n",
       "      <td>1.300000</td>\n",
       "    </tr>\n",
       "    <tr>\n",
       "      <th>75%</th>\n",
       "      <td>6.400000</td>\n",
       "      <td>3.300000</td>\n",
       "      <td>5.100000</td>\n",
       "      <td>1.800000</td>\n",
       "    </tr>\n",
       "    <tr>\n",
       "      <th>max</th>\n",
       "      <td>7.900000</td>\n",
       "      <td>4.400000</td>\n",
       "      <td>6.900000</td>\n",
       "      <td>2.500000</td>\n",
       "    </tr>\n",
       "  </tbody>\n",
       "</table>\n",
       "</div>"
      ],
      "text/plain": [
       "       sepal length (cm)  sepal width (cm)  petal length (cm)  \\\n",
       "count         150.000000        150.000000         150.000000   \n",
       "mean            5.843333          3.054000           3.758667   \n",
       "std             0.828066          0.433594           1.764420   \n",
       "min             4.300000          2.000000           1.000000   \n",
       "25%             5.100000          2.800000           1.600000   \n",
       "50%             5.800000          3.000000           4.350000   \n",
       "75%             6.400000          3.300000           5.100000   \n",
       "max             7.900000          4.400000           6.900000   \n",
       "\n",
       "       petal width (cm)  \n",
       "count        150.000000  \n",
       "mean           1.198667  \n",
       "std            0.763161  \n",
       "min            0.100000  \n",
       "25%            0.300000  \n",
       "50%            1.300000  \n",
       "75%            1.800000  \n",
       "max            2.500000  "
      ]
     },
     "execution_count": 5,
     "metadata": {},
     "output_type": "execute_result"
    }
   ],
   "source": [
    "iris_df.describe()"
   ]
  },
  {
   "cell_type": "markdown",
   "metadata": {},
   "source": [
    "The properties of the file by headers"
   ]
  },
  {
   "cell_type": "code",
   "execution_count": 6,
   "metadata": {
    "collapsed": true
   },
   "outputs": [],
   "source": [
    "iris_df['Target'] = iris.target"
   ]
  },
  {
   "cell_type": "code",
   "execution_count": 7,
   "metadata": {
    "collapsed": true
   },
   "outputs": [],
   "source": [
    "pd.set_option('display.max_rows', 10)\n",
    "pd.set_option('display.precision', 2)"
   ]
  },
  {
   "cell_type": "code",
   "execution_count": 8,
   "metadata": {
    "collapsed": false
   },
   "outputs": [
    {
     "data": {
      "text/plain": [
       "10"
      ]
     },
     "execution_count": 8,
     "metadata": {},
     "output_type": "execute_result"
    }
   ],
   "source": [
    "5 + 5"
   ]
  },
  {
   "cell_type": "code",
   "execution_count": 9,
   "metadata": {
    "collapsed": true
   },
   "outputs": [],
   "source": [
    "%matplotlib inline"
   ]
  },
  {
   "cell_type": "code",
   "execution_count": 10,
   "metadata": {
    "collapsed": false
   },
   "outputs": [
    {
     "data": {
      "text/plain": [
       "10"
      ]
     },
     "execution_count": 10,
     "metadata": {},
     "output_type": "execute_result"
    }
   ],
   "source": [
    "5+5"
   ]
  },
  {
   "cell_type": "code",
   "execution_count": 11,
   "metadata": {
    "collapsed": false
   },
   "outputs": [
    {
     "name": "stdout",
     "output_type": "stream",
     "text": [
      "1 loops, best of 3: 2.95 s per loop\n"
     ]
    }
   ],
   "source": [
    "%%timeit\n",
    "x = range(10000000)\n",
    "y = range(10000000)\n",
    "z = []\n",
    "for i in range(len(x)):\n",
    "    z.append(x[i] + y[i])\n"
   ]
  },
  {
   "cell_type": "code",
   "execution_count": 13,
   "metadata": {
    "collapsed": false
   },
   "outputs": [
    {
     "name": "stdout",
     "output_type": "stream",
     "text": [
      "The slowest run took 5.34 times longer than the fastest. This could mean that an intermediate result is being cached \n",
      "1 loops, best of 3: 72.8 ms per loop\n"
     ]
    }
   ],
   "source": [
    "%%timeit\n",
    "x = np.arange(10000000)\n",
    "y = np.arange(10000000)\n",
    "z = x + y"
   ]
  },
  {
   "cell_type": "code",
   "execution_count": 14,
   "metadata": {
    "collapsed": true
   },
   "outputs": [],
   "source": [
    "rand_aaray = np.array(np.random.randint(10, size=12))"
   ]
  },
  {
   "cell_type": "code",
   "execution_count": 15,
   "metadata": {
    "collapsed": false
   },
   "outputs": [
    {
     "data": {
      "text/plain": [
       "array([2, 2, 1, 4, 3, 0, 3, 2, 2, 7, 6, 5])"
      ]
     },
     "execution_count": 15,
     "metadata": {},
     "output_type": "execute_result"
    }
   ],
   "source": [
    "rand_aaray"
   ]
  },
  {
   "cell_type": "code",
   "execution_count": 16,
   "metadata": {
    "collapsed": false
   },
   "outputs": [
    {
     "data": {
      "text/plain": [
       "array([[2, 2, 1, 4],\n",
       "       [3, 0, 3, 2],\n",
       "       [2, 7, 6, 5]])"
      ]
     },
     "execution_count": 16,
     "metadata": {},
     "output_type": "execute_result"
    }
   ],
   "source": [
    "rand_aaray.reshape(3,4)"
   ]
  },
  {
   "cell_type": "code",
   "execution_count": 17,
   "metadata": {
    "collapsed": false
   },
   "outputs": [
    {
     "data": {
      "text/plain": [
       "array([2, 2, 1, 4, 3, 0, 3, 2, 2, 7, 6, 5])"
      ]
     },
     "execution_count": 17,
     "metadata": {},
     "output_type": "execute_result"
    }
   ],
   "source": [
    "rand_aaray"
   ]
  },
  {
   "cell_type": "code",
   "execution_count": 18,
   "metadata": {
    "collapsed": true
   },
   "outputs": [],
   "source": [
    "my_array = rand_aaray.reshape(4,3)\n"
   ]
  },
  {
   "cell_type": "code",
   "execution_count": 19,
   "metadata": {
    "collapsed": false
   },
   "outputs": [
    {
     "data": {
      "text/plain": [
       "array([[2, 2, 1],\n",
       "       [4, 3, 0],\n",
       "       [3, 2, 2],\n",
       "       [7, 6, 5]])"
      ]
     },
     "execution_count": 19,
     "metadata": {},
     "output_type": "execute_result"
    }
   ],
   "source": [
    "my_array"
   ]
  },
  {
   "cell_type": "code",
   "execution_count": 20,
   "metadata": {
    "collapsed": false
   },
   "outputs": [
    {
     "data": {
      "text/plain": [
       "2"
      ]
     },
     "execution_count": 20,
     "metadata": {},
     "output_type": "execute_result"
    }
   ],
   "source": [
    "my_array[0][1]"
   ]
  },
  {
   "cell_type": "code",
   "execution_count": 21,
   "metadata": {
    "collapsed": false
   },
   "outputs": [
    {
     "data": {
      "text/plain": [
       "array([2, 2, 1])"
      ]
     },
     "execution_count": 21,
     "metadata": {},
     "output_type": "execute_result"
    }
   ],
   "source": [
    "my_array[0]"
   ]
  },
  {
   "cell_type": "code",
   "execution_count": 22,
   "metadata": {
    "collapsed": false
   },
   "outputs": [
    {
     "data": {
      "text/plain": [
       "[2, 2, 1]"
      ]
     },
     "execution_count": 22,
     "metadata": {},
     "output_type": "execute_result"
    }
   ],
   "source": [
    "list(my_array[0])"
   ]
  },
  {
   "cell_type": "code",
   "execution_count": 23,
   "metadata": {
    "collapsed": false
   },
   "outputs": [
    {
     "ename": "SyntaxError",
     "evalue": "invalid syntax (<ipython-input-23-a40d012ef780>, line 1)",
     "output_type": "error",
     "traceback": [
      "\u001b[0;36m  File \u001b[0;32m\"<ipython-input-23-a40d012ef780>\"\u001b[0;36m, line \u001b[0;32m1\u001b[0m\n\u001b[0;31m    .format(my_array * 4)\u001b[0m\n\u001b[0m    ^\u001b[0m\n\u001b[0;31mSyntaxError\u001b[0m\u001b[0;31m:\u001b[0m invalid syntax\n"
     ]
    }
   ],
   "source": [
    ".format(my_array * 4)"
   ]
  },
  {
   "cell_type": "code",
   "execution_count": 24,
   "metadata": {
    "collapsed": false
   },
   "outputs": [
    {
     "data": {
      "text/plain": [
       "'[[ 8  8  4]\\n [16 12  0]\\n [12  8  8]\\n [28 24 20]]'"
      ]
     },
     "execution_count": 24,
     "metadata": {},
     "output_type": "execute_result"
    }
   ],
   "source": [
    "format(my_array * 4)"
   ]
  },
  {
   "cell_type": "code",
   "execution_count": 25,
   "metadata": {
    "collapsed": false
   },
   "outputs": [
    {
     "name": "stdout",
     "output_type": "stream",
     "text": [
      "[[ 8  8  4]\n",
      " [16 12  0]\n",
      " [12  8  8]\n",
      " [28 24 20]]\n"
     ]
    }
   ],
   "source": [
    "print format(my_array * 4)"
   ]
  },
  {
   "cell_type": "code",
   "execution_count": 26,
   "metadata": {
    "collapsed": false
   },
   "outputs": [
    {
     "data": {
      "text/plain": [
       "37"
      ]
     },
     "execution_count": 26,
     "metadata": {},
     "output_type": "execute_result"
    }
   ],
   "source": [
    "np.sum(my_array)"
   ]
  },
  {
   "cell_type": "code",
   "execution_count": 27,
   "metadata": {
    "collapsed": false
   },
   "outputs": [
    {
     "data": {
      "text/plain": [
       "7"
      ]
     },
     "execution_count": 27,
     "metadata": {},
     "output_type": "execute_result"
    }
   ],
   "source": [
    "my_array.max()"
   ]
  },
  {
   "cell_type": "code",
   "execution_count": 28,
   "metadata": {
    "collapsed": false
   },
   "outputs": [
    {
     "data": {
      "text/plain": [
       "3.0833333333333335"
      ]
     },
     "execution_count": 28,
     "metadata": {},
     "output_type": "execute_result"
    }
   ],
   "source": [
    "np.mean(my_array)"
   ]
  },
  {
   "cell_type": "code",
   "execution_count": 29,
   "metadata": {
    "collapsed": true
   },
   "outputs": [],
   "source": [
    "sequence_1 = [1, 2, 3, 4, 5, 6, 7, 8]\n",
    "sequence_2 = [2, 4, 6, 8, 10, 12, 14, 16]"
   ]
  },
  {
   "cell_type": "code",
   "execution_count": 30,
   "metadata": {
    "collapsed": false
   },
   "outputs": [
    {
     "data": {
      "text/plain": [
       "[1, 2, 3, 4, 5, 6, 7, 8, 2, 4, 6, 8, 10, 12, 14, 16]"
      ]
     },
     "execution_count": 30,
     "metadata": {},
     "output_type": "execute_result"
    }
   ],
   "source": [
    "sequence_1 + sequence_2"
   ]
  },
  {
   "cell_type": "code",
   "execution_count": 31,
   "metadata": {
    "collapsed": false
   },
   "outputs": [
    {
     "data": {
      "text/plain": [
       "array([ 1,  2,  3,  4,  5,  6,  7,  8,  2,  4,  6,  8, 10, 12, 14, 16])"
      ]
     },
     "execution_count": 31,
     "metadata": {},
     "output_type": "execute_result"
    }
   ],
   "source": [
    "np.array(sequence_1+sequence_2)"
   ]
  },
  {
   "cell_type": "code",
   "execution_count": 32,
   "metadata": {
    "collapsed": false
   },
   "outputs": [
    {
     "data": {
      "text/plain": [
       "array([1, 2, 3, 4, 5, 6, 7, 8])"
      ]
     },
     "execution_count": 32,
     "metadata": {},
     "output_type": "execute_result"
    }
   ],
   "source": [
    "np.array(sequence_1)"
   ]
  },
  {
   "cell_type": "code",
   "execution_count": 33,
   "metadata": {
    "collapsed": false
   },
   "outputs": [
    {
     "data": {
      "text/plain": [
       "array([ 3,  6,  9, 12, 15, 18, 21, 24])"
      ]
     },
     "execution_count": 33,
     "metadata": {},
     "output_type": "execute_result"
    }
   ],
   "source": [
    "np.array(sequence_1) + np.array(sequence_2)"
   ]
  },
  {
   "cell_type": "code",
   "execution_count": 34,
   "metadata": {
    "collapsed": true
   },
   "outputs": [],
   "source": [
    "sequence_3 = [3,3,1]"
   ]
  },
  {
   "cell_type": "code",
   "execution_count": 35,
   "metadata": {
    "collapsed": false
   },
   "outputs": [
    {
     "ename": "ValueError",
     "evalue": "operands could not be broadcast together with shapes (8,) (3,) ",
     "output_type": "error",
     "traceback": [
      "\u001b[0;31m---------------------------------------------------------------------------\u001b[0m",
      "\u001b[0;31mValueError\u001b[0m                                Traceback (most recent call last)",
      "\u001b[0;32m<ipython-input-35-7a1b0737f524>\u001b[0m in \u001b[0;36m<module>\u001b[0;34m()\u001b[0m\n\u001b[0;32m----> 1\u001b[0;31m \u001b[0mnp\u001b[0m\u001b[0;34m.\u001b[0m\u001b[0marray\u001b[0m\u001b[0;34m(\u001b[0m\u001b[0msequence_1\u001b[0m\u001b[0;34m)\u001b[0m \u001b[0;34m+\u001b[0m \u001b[0mnp\u001b[0m\u001b[0;34m.\u001b[0m\u001b[0marray\u001b[0m\u001b[0;34m(\u001b[0m\u001b[0msequence_3\u001b[0m\u001b[0;34m)\u001b[0m\u001b[0;34m\u001b[0m\u001b[0m\n\u001b[0m",
      "\u001b[0;31mValueError\u001b[0m: operands could not be broadcast together with shapes (8,) (3,) "
     ]
    }
   ],
   "source": [
    "np.array(sequence_1) + np.array(sequence_3)"
   ]
  },
  {
   "cell_type": "code",
   "execution_count": 36,
   "metadata": {
    "collapsed": false
   },
   "outputs": [
    {
     "data": {
      "text/plain": [
       "array([[2, 2, 1],\n",
       "       [4, 3, 0],\n",
       "       [3, 2, 2],\n",
       "       [7, 6, 5]])"
      ]
     },
     "execution_count": 36,
     "metadata": {},
     "output_type": "execute_result"
    }
   ],
   "source": [
    "my_array"
   ]
  },
  {
   "cell_type": "code",
   "execution_count": 37,
   "metadata": {
    "collapsed": false
   },
   "outputs": [
    {
     "data": {
      "text/plain": [
       "array([[ 6,  6,  1],\n",
       "       [12,  9,  0],\n",
       "       [ 9,  6,  2],\n",
       "       [21, 18,  5]])"
      ]
     },
     "execution_count": 37,
     "metadata": {},
     "output_type": "execute_result"
    }
   ],
   "source": [
    "my_array * np.array(sequence_3)"
   ]
  },
  {
   "cell_type": "code",
   "execution_count": 38,
   "metadata": {
    "collapsed": false
   },
   "outputs": [
    {
     "ename": "ValueError",
     "evalue": "operands could not be broadcast together with shapes (4,3) (8,) ",
     "output_type": "error",
     "traceback": [
      "\u001b[0;31m---------------------------------------------------------------------------\u001b[0m",
      "\u001b[0;31mValueError\u001b[0m                                Traceback (most recent call last)",
      "\u001b[0;32m<ipython-input-38-875082178207>\u001b[0m in \u001b[0;36m<module>\u001b[0;34m()\u001b[0m\n\u001b[0;32m----> 1\u001b[0;31m \u001b[0mmy_array\u001b[0m \u001b[0;34m*\u001b[0m \u001b[0mnp\u001b[0m\u001b[0;34m.\u001b[0m\u001b[0marray\u001b[0m\u001b[0;34m(\u001b[0m\u001b[0msequence_1\u001b[0m\u001b[0;34m)\u001b[0m\u001b[0;34m\u001b[0m\u001b[0m\n\u001b[0m",
      "\u001b[0;31mValueError\u001b[0m: operands could not be broadcast together with shapes (4,3) (8,) "
     ]
    }
   ],
   "source": [
    "my_array * np.array(sequence_1)"
   ]
  },
  {
   "cell_type": "code",
   "execution_count": 39,
   "metadata": {
    "collapsed": true
   },
   "outputs": [],
   "source": [
    "array10 = range(1,101)"
   ]
  },
  {
   "cell_type": "code",
   "execution_count": 40,
   "metadata": {
    "collapsed": false
   },
   "outputs": [
    {
     "data": {
      "text/plain": [
       "array([[  1,   2,   3,   4,   5,   6,   7,   8,   9,  10],\n",
       "       [ 11,  12,  13,  14,  15,  16,  17,  18,  19,  20],\n",
       "       [ 21,  22,  23,  24,  25,  26,  27,  28,  29,  30],\n",
       "       [ 31,  32,  33,  34,  35,  36,  37,  38,  39,  40],\n",
       "       [ 41,  42,  43,  44,  45,  46,  47,  48,  49,  50],\n",
       "       [ 51,  52,  53,  54,  55,  56,  57,  58,  59,  60],\n",
       "       [ 61,  62,  63,  64,  65,  66,  67,  68,  69,  70],\n",
       "       [ 71,  72,  73,  74,  75,  76,  77,  78,  79,  80],\n",
       "       [ 81,  82,  83,  84,  85,  86,  87,  88,  89,  90],\n",
       "       [ 91,  92,  93,  94,  95,  96,  97,  98,  99, 100]])"
      ]
     },
     "execution_count": 40,
     "metadata": {},
     "output_type": "execute_result"
    }
   ],
   "source": [
    "np.array(array10).reshape(10,10)"
   ]
  },
  {
   "cell_type": "code",
   "execution_count": 41,
   "metadata": {
    "collapsed": true
   },
   "outputs": [],
   "source": [
    "array10 = np.array(array10).reshape(10,10)"
   ]
  },
  {
   "cell_type": "code",
   "execution_count": 42,
   "metadata": {
    "collapsed": true
   },
   "outputs": [],
   "source": [
    "array10 = np.arange(1,101)\n",
    "    "
   ]
  },
  {
   "cell_type": "code",
   "execution_count": 43,
   "metadata": {
    "collapsed": false
   },
   "outputs": [
    {
     "data": {
      "text/plain": [
       "array([  1,   2,   3,   4,   5,   6,   7,   8,   9,  10,  11,  12,  13,\n",
       "        14,  15,  16,  17,  18,  19,  20,  21,  22,  23,  24,  25,  26,\n",
       "        27,  28,  29,  30,  31,  32,  33,  34,  35,  36,  37,  38,  39,\n",
       "        40,  41,  42,  43,  44,  45,  46,  47,  48,  49,  50,  51,  52,\n",
       "        53,  54,  55,  56,  57,  58,  59,  60,  61,  62,  63,  64,  65,\n",
       "        66,  67,  68,  69,  70,  71,  72,  73,  74,  75,  76,  77,  78,\n",
       "        79,  80,  81,  82,  83,  84,  85,  86,  87,  88,  89,  90,  91,\n",
       "        92,  93,  94,  95,  96,  97,  98,  99, 100])"
      ]
     },
     "execution_count": 43,
     "metadata": {},
     "output_type": "execute_result"
    }
   ],
   "source": [
    "array10"
   ]
  },
  {
   "cell_type": "code",
   "execution_count": 44,
   "metadata": {
    "collapsed": true
   },
   "outputs": [],
   "source": [
    "array10 = np.arange(1,101).reshape(10,10)\n"
   ]
  },
  {
   "cell_type": "code",
   "execution_count": 45,
   "metadata": {
    "collapsed": false
   },
   "outputs": [
    {
     "data": {
      "text/plain": [
       "array([[  1,   2,   3,   4,   5,   6,   7,   8,   9,  10],\n",
       "       [ 11,  12,  13,  14,  15,  16,  17,  18,  19,  20],\n",
       "       [ 21,  22,  23,  24,  25,  26,  27,  28,  29,  30],\n",
       "       [ 31,  32,  33,  34,  35,  36,  37,  38,  39,  40],\n",
       "       [ 41,  42,  43,  44,  45,  46,  47,  48,  49,  50],\n",
       "       [ 51,  52,  53,  54,  55,  56,  57,  58,  59,  60],\n",
       "       [ 61,  62,  63,  64,  65,  66,  67,  68,  69,  70],\n",
       "       [ 71,  72,  73,  74,  75,  76,  77,  78,  79,  80],\n",
       "       [ 81,  82,  83,  84,  85,  86,  87,  88,  89,  90],\n",
       "       [ 91,  92,  93,  94,  95,  96,  97,  98,  99, 100]])"
      ]
     },
     "execution_count": 45,
     "metadata": {},
     "output_type": "execute_result"
    }
   ],
   "source": [
    "array10"
   ]
  },
  {
   "cell_type": "code",
   "execution_count": 46,
   "metadata": {
    "collapsed": true
   },
   "outputs": [],
   "source": [
    "for x in np.nditer(array10, op_flags=['readwrite']):\n",
    "    if x % 2 != 0:\n",
    "        x[...] = 0"
   ]
  },
  {
   "cell_type": "code",
   "execution_count": 47,
   "metadata": {
    "collapsed": false
   },
   "outputs": [
    {
     "data": {
      "text/plain": [
       "array([[  0,   2,   0,   4,   0,   6,   0,   8,   0,  10],\n",
       "       [  0,  12,   0,  14,   0,  16,   0,  18,   0,  20],\n",
       "       [  0,  22,   0,  24,   0,  26,   0,  28,   0,  30],\n",
       "       [  0,  32,   0,  34,   0,  36,   0,  38,   0,  40],\n",
       "       [  0,  42,   0,  44,   0,  46,   0,  48,   0,  50],\n",
       "       [  0,  52,   0,  54,   0,  56,   0,  58,   0,  60],\n",
       "       [  0,  62,   0,  64,   0,  66,   0,  68,   0,  70],\n",
       "       [  0,  72,   0,  74,   0,  76,   0,  78,   0,  80],\n",
       "       [  0,  82,   0,  84,   0,  86,   0,  88,   0,  90],\n",
       "       [  0,  92,   0,  94,   0,  96,   0,  98,   0, 100]])"
      ]
     },
     "execution_count": 47,
     "metadata": {},
     "output_type": "execute_result"
    }
   ],
   "source": [
    "array10"
   ]
  },
  {
   "cell_type": "code",
   "execution_count": 48,
   "metadata": {
    "collapsed": true
   },
   "outputs": [],
   "source": [
    "array10 = np.arange(1,101).reshape(10,10)"
   ]
  },
  {
   "cell_type": "code",
   "execution_count": 49,
   "metadata": {
    "collapsed": false
   },
   "outputs": [
    {
     "data": {
      "text/plain": [
       "array([[  1,   2,   3,   4,   5,   6,   7,   8,   9,  10],\n",
       "       [ 11,  12,  13,  14,  15,  16,  17,  18,  19,  20],\n",
       "       [ 21,  22,  23,  24,  25,  26,  27,  28,  29,  30],\n",
       "       [ 31,  32,  33,  34,  35,  36,  37,  38,  39,  40],\n",
       "       [ 41,  42,  43,  44,  45,  46,  47,  48,  49,  50],\n",
       "       [ 51,  52,  53,  54,  55,  56,  57,  58,  59,  60],\n",
       "       [ 61,  62,  63,  64,  65,  66,  67,  68,  69,  70],\n",
       "       [ 71,  72,  73,  74,  75,  76,  77,  78,  79,  80],\n",
       "       [ 81,  82,  83,  84,  85,  86,  87,  88,  89,  90],\n",
       "       [ 91,  92,  93,  94,  95,  96,  97,  98,  99, 100]])"
      ]
     },
     "execution_count": 49,
     "metadata": {},
     "output_type": "execute_result"
    }
   ],
   "source": [
    "array10"
   ]
  },
  {
   "cell_type": "code",
   "execution_count": 50,
   "metadata": {
    "collapsed": true
   },
   "outputs": [],
   "source": [
    "for x in np.nditer(array10, op_flags=['readwrite']):\n",
    "    if x % 2 == 0:\n",
    "        x[...] = 0"
   ]
  },
  {
   "cell_type": "code",
   "execution_count": 51,
   "metadata": {
    "collapsed": false
   },
   "outputs": [
    {
     "data": {
      "text/plain": [
       "array([[ 1,  0,  3,  0,  5,  0,  7,  0,  9,  0],\n",
       "       [11,  0, 13,  0, 15,  0, 17,  0, 19,  0],\n",
       "       [21,  0, 23,  0, 25,  0, 27,  0, 29,  0],\n",
       "       [31,  0, 33,  0, 35,  0, 37,  0, 39,  0],\n",
       "       [41,  0, 43,  0, 45,  0, 47,  0, 49,  0],\n",
       "       [51,  0, 53,  0, 55,  0, 57,  0, 59,  0],\n",
       "       [61,  0, 63,  0, 65,  0, 67,  0, 69,  0],\n",
       "       [71,  0, 73,  0, 75,  0, 77,  0, 79,  0],\n",
       "       [81,  0, 83,  0, 85,  0, 87,  0, 89,  0],\n",
       "       [91,  0, 93,  0, 95,  0, 97,  0, 99,  0]])"
      ]
     },
     "execution_count": 51,
     "metadata": {},
     "output_type": "execute_result"
    }
   ],
   "source": [
    "array10"
   ]
  },
  {
   "cell_type": "code",
   "execution_count": 52,
   "metadata": {
    "collapsed": false
   },
   "outputs": [
    {
     "data": {
      "text/plain": [
       "array([[ True,  True,  True,  True, False,  True, False,  True, False,\n",
       "         True],\n",
       "       [False,  True, False,  True, False,  True, False,  True, False,\n",
       "         True],\n",
       "       [False,  True, False,  True, False,  True, False,  True, False,\n",
       "         True],\n",
       "       [False,  True, False,  True, False,  True, False,  True, False,\n",
       "         True],\n",
       "       [False,  True, False,  True, False,  True, False,  True, False,\n",
       "         True],\n",
       "       [False,  True, False,  True, False,  True, False,  True, False,\n",
       "         True],\n",
       "       [False,  True, False,  True, False,  True, False,  True, False,\n",
       "         True],\n",
       "       [False,  True, False,  True, False,  True, False,  True, False,\n",
       "         True],\n",
       "       [False,  True, False,  True, False,  True, False,  True, False,\n",
       "         True],\n",
       "       [False,  True, False,  True, False,  True, False,  True, False,\n",
       "         True]], dtype=bool)"
      ]
     },
     "execution_count": 52,
     "metadata": {},
     "output_type": "execute_result"
    }
   ],
   "source": [
    "array10 < 5"
   ]
  },
  {
   "cell_type": "code",
   "execution_count": 53,
   "metadata": {
    "collapsed": false
   },
   "outputs": [
    {
     "name": "stdout",
     "output_type": "stream",
     "text": [
      "[[ True  True  True  True False  True False  True False  True]\n",
      " [False  True False  True False  True False  True False  True]\n",
      " [False  True False  True False  True False  True False  True]\n",
      " [False  True False  True False  True False  True False  True]\n",
      " [False  True False  True False  True False  True False  True]\n",
      " [False  True False  True False  True False  True False  True]\n",
      " [False  True False  True False  True False  True False  True]\n",
      " [False  True False  True False  True False  True False  True]\n",
      " [False  True False  True False  True False  True False  True]\n",
      " [False  True False  True False  True False  True False  True]]\n"
     ]
    }
   ],
   "source": [
    "print array10 < 5"
   ]
  },
  {
   "cell_type": "code",
   "execution_count": 54,
   "metadata": {
    "collapsed": false
   },
   "outputs": [
    {
     "ename": "TypeError",
     "evalue": "'numpy.ndarray' object is not callable",
     "output_type": "error",
     "traceback": [
      "\u001b[0;31m---------------------------------------------------------------------------\u001b[0m",
      "\u001b[0;31mTypeError\u001b[0m                                 Traceback (most recent call last)",
      "\u001b[0;32m<ipython-input-54-4b7b7efe606c>\u001b[0m in \u001b[0;36m<module>\u001b[0;34m()\u001b[0m\n\u001b[0;32m----> 1\u001b[0;31m \u001b[0marray10\u001b[0m\u001b[0;34m(\u001b[0m\u001b[0marray10\u001b[0m \u001b[0;34m<\u001b[0m \u001b[0;36m5\u001b[0m\u001b[0;34m)\u001b[0m\u001b[0;34m\u001b[0m\u001b[0m\n\u001b[0m",
      "\u001b[0;31mTypeError\u001b[0m: 'numpy.ndarray' object is not callable"
     ]
    }
   ],
   "source": [
    "array10(array10 < 5)"
   ]
  },
  {
   "cell_type": "code",
   "execution_count": 55,
   "metadata": {
    "collapsed": false
   },
   "outputs": [
    {
     "data": {
      "text/plain": [
       "array([1, 0, 3, 0, 0, 0, 0, 0, 0, 0, 0, 0, 0, 0, 0, 0, 0, 0, 0, 0, 0, 0, 0,\n",
       "       0, 0, 0, 0, 0, 0, 0, 0, 0, 0, 0, 0, 0, 0, 0, 0, 0, 0, 0, 0, 0, 0, 0,\n",
       "       0, 0, 0, 0, 0, 0])"
      ]
     },
     "execution_count": 55,
     "metadata": {},
     "output_type": "execute_result"
    }
   ],
   "source": [
    "array10[array10 < 5]"
   ]
  },
  {
   "cell_type": "code",
   "execution_count": 56,
   "metadata": {
    "collapsed": false
   },
   "outputs": [
    {
     "name": "stdout",
     "output_type": "stream",
     "text": [
      "[1 0 3 0 0 0 0 0 0 0 0 0 0 0 0 0 0 0 0 0 0 0 0 0 0 0 0 0 0 0 0 0 0 0 0 0 0\n",
      " 0 0 0 0 0 0 0 0 0 0 0 0 0 0 0]\n"
     ]
    }
   ],
   "source": [
    "print array10[array10 < 5]"
   ]
  },
  {
   "cell_type": "code",
   "execution_count": 57,
   "metadata": {
    "collapsed": true
   },
   "outputs": [],
   "source": [
    "get_low_5 = array10 < 5"
   ]
  },
  {
   "cell_type": "code",
   "execution_count": 58,
   "metadata": {
    "collapsed": false
   },
   "outputs": [
    {
     "name": "stdout",
     "output_type": "stream",
     "text": [
      "[1 0 3 0 0 0 0 0 0 0 0 0 0 0 0 0 0 0 0 0 0 0 0 0 0 0 0 0 0 0 0 0 0 0 0 0 0\n",
      " 0 0 0 0 0 0 0 0 0 0 0 0 0 0 0]\n"
     ]
    }
   ],
   "source": [
    "print array10[get_low_5]"
   ]
  },
  {
   "cell_type": "code",
   "execution_count": 59,
   "metadata": {
    "collapsed": false
   },
   "outputs": [
    {
     "data": {
      "text/plain": [
       "array([[ 1,  0,  3,  0,  5,  0,  7,  0,  9,  0],\n",
       "       [11,  0, 13,  0, 15,  0, 17,  0, 19,  0],\n",
       "       [21,  0, 23,  0, 25,  0, 27,  0, 29,  0],\n",
       "       [31,  0, 33,  0, 35,  0, 37,  0, 39,  0],\n",
       "       [41,  0, 43,  0, 45,  0, 47,  0, 49,  0],\n",
       "       [51,  0, 53,  0, 55,  0, 57,  0, 59,  0],\n",
       "       [61,  0, 63,  0, 65,  0, 67,  0, 69,  0],\n",
       "       [71,  0, 73,  0, 75,  0, 77,  0, 79,  0],\n",
       "       [81,  0, 83,  0, 85,  0, 87,  0, 89,  0],\n",
       "       [91,  0, 93,  0, 95,  0, 97,  0, 99,  0]])"
      ]
     },
     "execution_count": 59,
     "metadata": {},
     "output_type": "execute_result"
    }
   ],
   "source": [
    "array10"
   ]
  },
  {
   "cell_type": "code",
   "execution_count": 60,
   "metadata": {
    "collapsed": false
   },
   "outputs": [
    {
     "data": {
      "text/plain": [
       "array([ 1.13228717,  1.11599828,  1.02947649,  0.99465762,  0.96337766,\n",
       "        1.18573243,  1.09081364,  0.96405552,  0.94058371,  0.81169498,\n",
       "        1.16674879,  1.09347429,  0.93819278,  1.11313349,  0.97832681])"
      ]
     },
     "execution_count": 60,
     "metadata": {},
     "output_type": "execute_result"
    }
   ],
   "source": [
    "np.random.normal(1,0.1,15)"
   ]
  },
  {
   "cell_type": "code",
   "execution_count": 61,
   "metadata": {
    "collapsed": false
   },
   "outputs": [
    {
     "data": {
      "text/plain": [
       "array([ 2.3033359 , -0.34347318,  0.42107927,  0.72727036,  0.93850528,\n",
       "        0.35566384,  1.00611398,  0.80951665,  0.37094277,  0.84488113,\n",
       "        0.6713895 ,  0.78374357,  0.82305297,  0.57819833,  0.93627146])"
      ]
     },
     "execution_count": 61,
     "metadata": {},
     "output_type": "execute_result"
    }
   ],
   "source": [
    "np.random.normal(1,0.6,15)"
   ]
  },
  {
   "cell_type": "code",
   "execution_count": 62,
   "metadata": {
    "collapsed": true
   },
   "outputs": [],
   "source": [
    "array10 = np.arange(1,101).reshape(10,10)"
   ]
  },
  {
   "cell_type": "code",
   "execution_count": 63,
   "metadata": {
    "collapsed": false
   },
   "outputs": [
    {
     "data": {
      "text/plain": [
       "array([[  1,   2,   3,   4,   5,   6,   7,   8,   9,  10],\n",
       "       [ 11,  12,  13,  14,  15,  16,  17,  18,  19,  20],\n",
       "       [ 21,  22,  23,  24,  25,  26,  27,  28,  29,  30],\n",
       "       [ 31,  32,  33,  34,  35,  36,  37,  38,  39,  40],\n",
       "       [ 41,  42,  43,  44,  45,  46,  47,  48,  49,  50],\n",
       "       [ 51,  52,  53,  54,  55,  56,  57,  58,  59,  60],\n",
       "       [ 61,  62,  63,  64,  65,  66,  67,  68,  69,  70],\n",
       "       [ 71,  72,  73,  74,  75,  76,  77,  78,  79,  80],\n",
       "       [ 81,  82,  83,  84,  85,  86,  87,  88,  89,  90],\n",
       "       [ 91,  92,  93,  94,  95,  96,  97,  98,  99, 100]])"
      ]
     },
     "execution_count": 63,
     "metadata": {},
     "output_type": "execute_result"
    }
   ],
   "source": [
    "array10"
   ]
  },
  {
   "cell_type": "code",
   "execution_count": 64,
   "metadata": {
    "collapsed": false
   },
   "outputs": [
    {
     "data": {
      "text/plain": [
       "12"
      ]
     },
     "execution_count": 64,
     "metadata": {},
     "output_type": "execute_result"
    }
   ],
   "source": [
    "array10[1,1]"
   ]
  },
  {
   "cell_type": "code",
   "execution_count": 65,
   "metadata": {
    "collapsed": false
   },
   "outputs": [
    {
     "data": {
      "text/plain": [
       "16"
      ]
     },
     "execution_count": 65,
     "metadata": {},
     "output_type": "execute_result"
    }
   ],
   "source": [
    "array10[1,5]"
   ]
  },
  {
   "cell_type": "code",
   "execution_count": 66,
   "metadata": {
    "collapsed": false
   },
   "outputs": [
    {
     "data": {
      "text/plain": [
       "16"
      ]
     },
     "execution_count": 66,
     "metadata": {},
     "output_type": "execute_result"
    }
   ],
   "source": [
    "array10[1][5]"
   ]
  },
  {
   "cell_type": "code",
   "execution_count": 67,
   "metadata": {
    "collapsed": false
   },
   "outputs": [
    {
     "data": {
      "text/plain": [
       "array([ 4, 14, 24, 34, 44, 54, 64, 74, 84, 94])"
      ]
     },
     "execution_count": 67,
     "metadata": {},
     "output_type": "execute_result"
    }
   ],
   "source": [
    "array10[:,3]"
   ]
  },
  {
   "cell_type": "code",
   "execution_count": 68,
   "metadata": {
    "collapsed": false
   },
   "outputs": [
    {
     "data": {
      "text/plain": [
       "array([[11, 12, 13, 14, 15, 16, 17, 18, 19, 20],\n",
       "       [21, 22, 23, 24, 25, 26, 27, 28, 29, 30],\n",
       "       [31, 32, 33, 34, 35, 36, 37, 38, 39, 40],\n",
       "       [41, 42, 43, 44, 45, 46, 47, 48, 49, 50]])"
      ]
     },
     "execution_count": 68,
     "metadata": {},
     "output_type": "execute_result"
    }
   ],
   "source": [
    "array10[1:5]"
   ]
  },
  {
   "cell_type": "code",
   "execution_count": 69,
   "metadata": {
    "collapsed": false
   },
   "outputs": [
    {
     "data": {
      "text/plain": [
       "array([[14, 15, 16],\n",
       "       [24, 25, 26],\n",
       "       [34, 35, 36],\n",
       "       [44, 45, 46]])"
      ]
     },
     "execution_count": 69,
     "metadata": {},
     "output_type": "execute_result"
    }
   ],
   "source": [
    "array10[1:5,3:6]"
   ]
  },
  {
   "cell_type": "code",
   "execution_count": 70,
   "metadata": {
    "collapsed": false
   },
   "outputs": [
    {
     "ename": "ValueError",
     "evalue": "total size of new array must be unchanged",
     "output_type": "error",
     "traceback": [
      "\u001b[0;31m---------------------------------------------------------------------------\u001b[0m",
      "\u001b[0;31mValueError\u001b[0m                                Traceback (most recent call last)",
      "\u001b[0;32m<ipython-input-70-85911904c4ce>\u001b[0m in \u001b[0;36m<module>\u001b[0;34m()\u001b[0m\n\u001b[0;32m----> 1\u001b[0;31m \u001b[0marray15\u001b[0m \u001b[0;34m=\u001b[0m \u001b[0mnp\u001b[0m\u001b[0;34m.\u001b[0m\u001b[0marange\u001b[0m\u001b[0;34m(\u001b[0m\u001b[0;36m151\u001b[0m\u001b[0;34m)\u001b[0m\u001b[0;34m.\u001b[0m\u001b[0mreshape\u001b[0m\u001b[0;34m(\u001b[0m\u001b[0;36m10\u001b[0m\u001b[0;34m,\u001b[0m\u001b[0;36m15\u001b[0m\u001b[0;34m)\u001b[0m\u001b[0;34m\u001b[0m\u001b[0m\n\u001b[0m",
      "\u001b[0;31mValueError\u001b[0m: total size of new array must be unchanged"
     ]
    }
   ],
   "source": [
    "array15 = np.arange(151).reshape(10,15)"
   ]
  },
  {
   "cell_type": "code",
   "execution_count": 71,
   "metadata": {
    "collapsed": true
   },
   "outputs": [],
   "source": [
    "array15 = np.arange(1,151).reshape(10,15)"
   ]
  },
  {
   "cell_type": "code",
   "execution_count": 72,
   "metadata": {
    "collapsed": false
   },
   "outputs": [
    {
     "data": {
      "text/plain": [
       "array([[  1,   2,   3,   4,   5,   6,   7,   8,   9,  10,  11,  12,  13,\n",
       "         14,  15],\n",
       "       [ 16,  17,  18,  19,  20,  21,  22,  23,  24,  25,  26,  27,  28,\n",
       "         29,  30],\n",
       "       [ 31,  32,  33,  34,  35,  36,  37,  38,  39,  40,  41,  42,  43,\n",
       "         44,  45],\n",
       "       [ 46,  47,  48,  49,  50,  51,  52,  53,  54,  55,  56,  57,  58,\n",
       "         59,  60],\n",
       "       [ 61,  62,  63,  64,  65,  66,  67,  68,  69,  70,  71,  72,  73,\n",
       "         74,  75],\n",
       "       [ 76,  77,  78,  79,  80,  81,  82,  83,  84,  85,  86,  87,  88,\n",
       "         89,  90],\n",
       "       [ 91,  92,  93,  94,  95,  96,  97,  98,  99, 100, 101, 102, 103,\n",
       "        104, 105],\n",
       "       [106, 107, 108, 109, 110, 111, 112, 113, 114, 115, 116, 117, 118,\n",
       "        119, 120],\n",
       "       [121, 122, 123, 124, 125, 126, 127, 128, 129, 130, 131, 132, 133,\n",
       "        134, 135],\n",
       "       [136, 137, 138, 139, 140, 141, 142, 143, 144, 145, 146, 147, 148,\n",
       "        149, 150]])"
      ]
     },
     "execution_count": 72,
     "metadata": {},
     "output_type": "execute_result"
    }
   ],
   "source": [
    "array15"
   ]
  },
  {
   "cell_type": "code",
   "execution_count": 75,
   "metadata": {
    "collapsed": false
   },
   "outputs": [
    {
     "name": "stdout",
     "output_type": "stream",
     "text": [
      "345\n"
     ]
    }
   ],
   "source": [
    "sumarray = np.sum(array15[1])\n",
    "print sumarray"
   ]
  },
  {
   "cell_type": "code",
   "execution_count": 76,
   "metadata": {
    "collapsed": false
   },
   "outputs": [
    {
     "data": {
      "text/plain": [
       "array([  2,  17,  32,  47,  62,  77,  92, 107, 122, 137])"
      ]
     },
     "execution_count": 76,
     "metadata": {},
     "output_type": "execute_result"
    }
   ],
   "source": [
    "array15[:,1]"
   ]
  },
  {
   "cell_type": "code",
   "execution_count": 77,
   "metadata": {
    "collapsed": false
   },
   "outputs": [
    {
     "data": {
      "text/plain": [
       "75.5"
      ]
     },
     "execution_count": 77,
     "metadata": {},
     "output_type": "execute_result"
    }
   ],
   "source": [
    "np.mean(array15[:,0:])"
   ]
  },
  {
   "cell_type": "code",
   "execution_count": 85,
   "metadata": {
    "collapsed": false
   },
   "outputs": [
    {
     "data": {
      "text/plain": [
       "array([[  1,   2,   3,   4],\n",
       "       [ 16,  17,  18,  19],\n",
       "       [ 31,  32,  33,  34],\n",
       "       [ 46,  47,  48,  49],\n",
       "       [ 61,  62,  63,  64],\n",
       "       [ 76,  77,  78,  79],\n",
       "       [ 91,  92,  93,  94],\n",
       "       [106, 107, 108, 109],\n",
       "       [121, 122, 123, 124],\n",
       "       [136, 137, 138, 139]])"
      ]
     },
     "execution_count": 85,
     "metadata": {},
     "output_type": "execute_result"
    }
   ],
   "source": [
    "array15[:,0:4]"
   ]
  },
  {
   "cell_type": "code",
   "execution_count": 86,
   "metadata": {
    "collapsed": false
   },
   "outputs": [
    {
     "name": "stdout",
     "output_type": "stream",
     "text": [
      "1.0\n",
      "2.0\n",
      "3.0\n",
      "4.0\n",
      "5.0\n",
      "6.0\n",
      "7.0\n",
      "8.0\n",
      "9.0\n",
      "10.0\n",
      "11.0\n",
      "12.0\n",
      "13.0\n",
      "14.0\n",
      "15.0\n",
      "16.0\n",
      "17.0\n",
      "18.0\n",
      "19.0\n",
      "20.0\n",
      "21.0\n",
      "22.0\n",
      "23.0\n",
      "24.0\n",
      "25.0\n",
      "26.0\n",
      "27.0\n",
      "28.0\n",
      "29.0\n",
      "30.0\n",
      "31.0\n",
      "32.0\n",
      "33.0\n",
      "34.0\n",
      "35.0\n",
      "36.0\n",
      "37.0\n",
      "38.0\n",
      "39.0\n",
      "40.0\n",
      "41.0\n",
      "42.0\n",
      "43.0\n",
      "44.0\n",
      "45.0\n",
      "46.0\n",
      "47.0\n",
      "48.0\n",
      "49.0\n",
      "50.0\n",
      "51.0\n",
      "52.0\n",
      "53.0\n",
      "54.0\n",
      "55.0\n",
      "56.0\n",
      "57.0\n",
      "58.0\n",
      "59.0\n",
      "60.0\n",
      "61.0\n",
      "62.0\n",
      "63.0\n",
      "64.0\n",
      "65.0\n",
      "66.0\n",
      "67.0\n",
      "68.0\n",
      "69.0\n",
      "70.0\n",
      "71.0\n",
      "72.0\n",
      "73.0\n",
      "74.0\n",
      "75.0\n",
      "76.0\n",
      "77.0\n",
      "78.0\n",
      "79.0\n",
      "80.0\n",
      "81.0\n",
      "82.0\n",
      "83.0\n",
      "84.0\n",
      "85.0\n",
      "86.0\n",
      "87.0\n",
      "88.0\n",
      "89.0\n",
      "90.0\n",
      "91.0\n",
      "92.0\n",
      "93.0\n",
      "94.0\n",
      "95.0\n",
      "96.0\n",
      "97.0\n",
      "98.0\n",
      "99.0\n",
      "100.0\n",
      "101.0\n",
      "102.0\n",
      "103.0\n",
      "104.0\n",
      "105.0\n",
      "106.0\n",
      "107.0\n",
      "108.0\n",
      "109.0\n",
      "110.0\n",
      "111.0\n",
      "112.0\n",
      "113.0\n",
      "114.0\n",
      "115.0\n",
      "116.0\n",
      "117.0\n",
      "118.0\n",
      "119.0\n",
      "120.0\n",
      "121.0\n",
      "122.0\n",
      "123.0\n",
      "124.0\n",
      "125.0\n",
      "126.0\n",
      "127.0\n",
      "128.0\n",
      "129.0\n",
      "130.0\n",
      "131.0\n",
      "132.0\n",
      "133.0\n",
      "134.0\n",
      "135.0\n",
      "136.0\n",
      "137.0\n",
      "138.0\n",
      "139.0\n",
      "140.0\n",
      "141.0\n",
      "142.0\n",
      "143.0\n",
      "144.0\n",
      "145.0\n",
      "146.0\n",
      "147.0\n",
      "148.0\n",
      "149.0\n",
      "150.0\n"
     ]
    }
   ],
   "source": [
    "for x in np.nditer(array15[:,0:]):\n",
    "    print np.mean(x)\n",
    "    "
   ]
  },
  {
   "cell_type": "code",
   "execution_count": 87,
   "metadata": {
    "collapsed": false
   },
   "outputs": [
    {
     "name": "stdout",
     "output_type": "stream",
     "text": [
      "[ 1  2  3  4  5  6  7  8  9 10 11 12 13 14 15]\n",
      "[16 17 18 19 20 21 22 23 24 25 26 27 28 29 30]\n",
      "[31 32 33 34 35 36 37 38 39 40 41 42 43 44 45]\n",
      "[46 47 48 49 50 51 52 53 54 55 56 57 58 59 60]\n",
      "[61 62 63 64 65 66 67 68 69 70 71 72 73 74 75]\n",
      "[76 77 78 79 80 81 82 83 84 85 86 87 88 89 90]\n",
      "[ 91  92  93  94  95  96  97  98  99 100 101 102 103 104 105]\n",
      "[106 107 108 109 110 111 112 113 114 115 116 117 118 119 120]\n",
      "[121 122 123 124 125 126 127 128 129 130 131 132 133 134 135]\n",
      "[136 137 138 139 140 141 142 143 144 145 146 147 148 149 150]\n"
     ]
    }
   ],
   "source": [
    "for x in array15[:,0:]:\n",
    "    print x"
   ]
  },
  {
   "cell_type": "code",
   "execution_count": 88,
   "metadata": {
    "collapsed": false
   },
   "outputs": [
    {
     "name": "stdout",
     "output_type": "stream",
     "text": [
      "[1]\n",
      "[16]\n",
      "[31]\n",
      "[46]\n",
      "[61]\n",
      "[76]\n",
      "[91]\n",
      "[106]\n",
      "[121]\n",
      "[136]\n"
     ]
    }
   ],
   "source": [
    "for x in array15[:,0:1]:\n",
    "    print x"
   ]
  },
  {
   "cell_type": "code",
   "execution_count": 89,
   "metadata": {
    "collapsed": false
   },
   "outputs": [
    {
     "name": "stdout",
     "output_type": "stream",
     "text": [
      "[1 2]\n",
      "[16 17]\n",
      "[31 32]\n",
      "[46 47]\n",
      "[61 62]\n",
      "[76 77]\n",
      "[91 92]\n",
      "[106 107]\n",
      "[121 122]\n",
      "[136 137]\n"
     ]
    }
   ],
   "source": [
    "for x in array15[:,0:2]:\n",
    "    print x"
   ]
  },
  {
   "cell_type": "code",
   "execution_count": 90,
   "metadata": {
    "collapsed": false
   },
   "outputs": [
    {
     "name": "stdout",
     "output_type": "stream",
     "text": [
      "1.0\n",
      "16.0\n",
      "31.0\n",
      "46.0\n",
      "61.0\n",
      "76.0\n",
      "91.0\n",
      "106.0\n",
      "121.0\n",
      "136.0\n"
     ]
    }
   ],
   "source": [
    "for x in array15[:,0:1]:\n",
    "    print np.mean(x)"
   ]
  },
  {
   "cell_type": "code",
   "execution_count": 91,
   "metadata": {
    "collapsed": false
   },
   "outputs": [
    {
     "data": {
      "text/plain": [
       "array([[  1,   2,   3,   4,   5,   6,   7,   8,   9,  10,  11,  12,  13,\n",
       "         14,  15],\n",
       "       [ 16,  17,  18,  19,  20,  21,  22,  23,  24,  25,  26,  27,  28,\n",
       "         29,  30],\n",
       "       [ 31,  32,  33,  34,  35,  36,  37,  38,  39,  40,  41,  42,  43,\n",
       "         44,  45],\n",
       "       [ 46,  47,  48,  49,  50,  51,  52,  53,  54,  55,  56,  57,  58,\n",
       "         59,  60],\n",
       "       [ 61,  62,  63,  64,  65,  66,  67,  68,  69,  70,  71,  72,  73,\n",
       "         74,  75],\n",
       "       [ 76,  77,  78,  79,  80,  81,  82,  83,  84,  85,  86,  87,  88,\n",
       "         89,  90],\n",
       "       [ 91,  92,  93,  94,  95,  96,  97,  98,  99, 100, 101, 102, 103,\n",
       "        104, 105],\n",
       "       [106, 107, 108, 109, 110, 111, 112, 113, 114, 115, 116, 117, 118,\n",
       "        119, 120],\n",
       "       [121, 122, 123, 124, 125, 126, 127, 128, 129, 130, 131, 132, 133,\n",
       "        134, 135],\n",
       "       [136, 137, 138, 139, 140, 141, 142, 143, 144, 145, 146, 147, 148,\n",
       "        149, 150]])"
      ]
     },
     "execution_count": 91,
     "metadata": {},
     "output_type": "execute_result"
    }
   ],
   "source": [
    "array15[:,0:]"
   ]
  },
  {
   "cell_type": "code",
   "execution_count": 92,
   "metadata": {
    "collapsed": false
   },
   "outputs": [
    {
     "data": {
      "text/plain": [
       "8.0"
      ]
     },
     "execution_count": 92,
     "metadata": {},
     "output_type": "execute_result"
    }
   ],
   "source": [
    "np.mean(array15[0])"
   ]
  },
  {
   "cell_type": "code",
   "execution_count": 93,
   "metadata": {
    "collapsed": false
   },
   "outputs": [
    {
     "data": {
      "text/plain": [
       "68.5"
      ]
     },
     "execution_count": 93,
     "metadata": {},
     "output_type": "execute_result"
    }
   ],
   "source": [
    "np.mean(array15[:,0])"
   ]
  },
  {
   "cell_type": "code",
   "execution_count": 94,
   "metadata": {
    "collapsed": false
   },
   "outputs": [
    {
     "data": {
      "text/plain": [
       "10"
      ]
     },
     "execution_count": 94,
     "metadata": {},
     "output_type": "execute_result"
    }
   ],
   "source": [
    "len(array15)"
   ]
  },
  {
   "cell_type": "code",
   "execution_count": 95,
   "metadata": {
    "collapsed": false
   },
   "outputs": [
    {
     "data": {
      "text/plain": [
       "15"
      ]
     },
     "execution_count": 95,
     "metadata": {},
     "output_type": "execute_result"
    }
   ],
   "source": [
    "len(array15[0])"
   ]
  },
  {
   "cell_type": "code",
   "execution_count": 96,
   "metadata": {
    "collapsed": true
   },
   "outputs": [],
   "source": [
    "for x in range(len(array15[0])):\n",
    "    np.mean(array15[:,x])"
   ]
  },
  {
   "cell_type": "code",
   "execution_count": 97,
   "metadata": {
    "collapsed": false
   },
   "outputs": [
    {
     "name": "stdout",
     "output_type": "stream",
     "text": [
      "68.5\n",
      "69.5\n",
      "70.5\n",
      "71.5\n",
      "72.5\n",
      "73.5\n",
      "74.5\n",
      "75.5\n",
      "76.5\n",
      "77.5\n",
      "78.5\n",
      "79.5\n",
      "80.5\n",
      "81.5\n",
      "82.5\n"
     ]
    }
   ],
   "source": [
    "for x in range(len(array15[0])):\n",
    "    print np.mean(array15[:,x])"
   ]
  },
  {
   "cell_type": "code",
   "execution_count": 98,
   "metadata": {
    "collapsed": false
   },
   "outputs": [
    {
     "name": "stdout",
     "output_type": "stream",
     "text": [
      "8.0\n",
      "23.0\n",
      "38.0\n",
      "53.0\n",
      "68.0\n",
      "83.0\n",
      "98.0\n",
      "113.0\n",
      "128.0\n",
      "143.0\n"
     ]
    }
   ],
   "source": [
    "for x in range(len(array15)):\n",
    "    print np.mean(array15[x])"
   ]
  },
  {
   "cell_type": "code",
   "execution_count": 1,
   "metadata": {
    "collapsed": true
   },
   "outputs": [],
   "source": [
    "dicta = {'googleemailaddressofcampaignowner': 'delete_me_please@google.com', 'nameofcampaigninitiative': 'general', 'l3parentname': '#N/A', 'forbullseyecampaignsonlymoreinfo-httpsdocs.google.comdocumentd1arqcrfcicnp8dcfws6pbthyyscwlzbntgx0bgtvq-1geditheadingh.r66qubfwnvzw': None, 'formatddmmyyyythedatewhenyouexpectallactivitiesaroundthiscampaigntostop': '27/01/2016', 'targetaudience': 'lcs', 'enteryoure-mailaddressinfulle.gmyemailgoogle.comandcopydowntoallrecords': 'delete_me@google.com', 'linktocampaignbriefgoogledocordrivefolderlinkonly': None, 'selectfrompicklist': 'emea', 'optionalselectfrompicklist': 'CROSS-REGION', 'charactersmax.': 'delete this row', 'namelength': '53', '_ckd7g': 'none', '_cre1l': 'retail', 'formatddmmyyyythedatewhenyourcampaignwillbegingeneratingleads': '06/01/2016', 'auto-generated.donotedit.onlygeneratedwhenrequiredfieldsarecomplete': '2016-apps-emea-lcs-retail-general-dmail-deletethisrow', 'channelthroughwhichthecampaignisrun': 'direct mail'}"
   ]
  },
  {
   "cell_type": "code",
   "execution_count": 2,
   "metadata": {
    "collapsed": false
   },
   "outputs": [
    {
     "ename": "KeyError",
     "evalue": "'_cvlqs'",
     "output_type": "error",
     "traceback": [
      "\u001b[0;31m---------------------------------------------------------------------------\u001b[0m",
      "\u001b[0;31mKeyError\u001b[0m                                  Traceback (most recent call last)",
      "\u001b[0;32m<ipython-input-2-788a46b3ec24>\u001b[0m in \u001b[0;36m<module>\u001b[0;34m()\u001b[0m\n\u001b[0;32m----> 1\u001b[0;31m \u001b[0mdicta\u001b[0m\u001b[0;34m[\u001b[0m\u001b[0;34m'_cvlqs'\u001b[0m\u001b[0;34m]\u001b[0m\u001b[0;34m\u001b[0m\u001b[0m\n\u001b[0m",
      "\u001b[0;31mKeyError\u001b[0m: '_cvlqs'"
     ]
    }
   ],
   "source": [
    "dicta['_cvlqs']"
   ]
  },
  {
   "cell_type": "code",
   "execution_count": 6,
   "metadata": {
    "collapsed": false
   },
   "outputs": [],
   "source": [
    "ll = ['a','b','c','d','_cvlqs']\n",
    "\n",
    "for x in ll:\n",
    "    try:\n",
    "        if dicta[x]:\n",
    "            pass\n",
    "    except KeyError:\n",
    "        dicta[x] = \"none\""
   ]
  },
  {
   "cell_type": "code",
   "execution_count": 9,
   "metadata": {
    "collapsed": false
   },
   "outputs": [
    {
     "data": {
      "text/plain": [
       "'none'"
      ]
     },
     "execution_count": 9,
     "metadata": {},
     "output_type": "execute_result"
    }
   ],
   "source": [
    "dicta['b']"
   ]
  },
  {
   "cell_type": "code",
   "execution_count": 10,
   "metadata": {
    "collapsed": true
   },
   "outputs": [],
   "source": [
    "dictb = {'googleemailaddressofcampaignowner': 'Campaign Owner Email Address', 'nameofcampaigninitiative': 'Initiative', 'l3parentname': None, 'optionalselectfrompicklistpleaseusegocampaignsubchanneltosubmitnewsubchannels': 'Country/Region', 'formatddmmyyyythedatewhenyouexpectallactivitiesaroundthiscampaigntostop': 'End Date', 'forbullseyecampaignsonlymoreinfo-httpsdocs.google.comdocumentd1arqcrfcicnp8dcfws6pbthyyscwlzbntgx0bgtvq-1geditheadingh.r66qubfwnvzw': 'Methodology Stage', 'targetaudience': 'Segment', 'enteryoure-mailaddressinfulle.gmyemailgoogle.comandcopydowntoallrecords': 'Uploader Email Address', '_cvlqs': 'Activity Name', 'selectfrompicklist': 'Region', 'charactersmax.': 'Description', 'namelength': None, 'linktocampaignbriefgoogledocordrivefolderlinkonly': 'Campaign Brief', '_ckd7g': 'Sub-channel', '_cre1l': 'Vertical', 'formatddmmyyyythedatewhenyourcampaignwillbegingeneratingleads': 'Launch Date', 'auto-generated.donotedit.onlygeneratedwhenrequiredfieldsarecomplete': 'Campaign Name', 'channelthroughwhichthecampaignisrun': 'Channel'}"
   ]
  },
  {
   "cell_type": "code",
   "execution_count": 13,
   "metadata": {
    "collapsed": false
   },
   "outputs": [
    {
     "data": {
      "text/plain": [
       "['googleemailaddressofcampaignowner',\n",
       " 'nameofcampaigninitiative',\n",
       " 'l3parentname',\n",
       " 'optionalselectfrompicklistpleaseusegocampaignsubchanneltosubmitnewsubchannels',\n",
       " 'targetaudience',\n",
       " 'formatddmmyyyythedatewhenyouexpectallactivitiesaroundthiscampaigntostop',\n",
       " '_cvlqs',\n",
       " 'enteryoure-mailaddressinfulle.gmyemailgoogle.comandcopydowntoallrecords',\n",
       " 'charactersmax.',\n",
       " '_cre1l',\n",
       " 'forbullseyecampaignsonlymoreinfo-httpsdocs.google.comdocumentd1arqcrfcicnp8dcfws6pbthyyscwlzbntgx0bgtvq-1geditheadingh.r66qubfwnvzw',\n",
       " 'namelength',\n",
       " 'linktocampaignbriefgoogledocordrivefolderlinkonly',\n",
       " '_ckd7g',\n",
       " 'selectfrompicklist',\n",
       " 'formatddmmyyyythedatewhenyourcampaignwillbegingeneratingleads',\n",
       " 'auto-generated.donotedit.onlygeneratedwhenrequiredfieldsarecomplete',\n",
       " 'channelthroughwhichthecampaignisrun']"
      ]
     },
     "execution_count": 13,
     "metadata": {},
     "output_type": "execute_result"
    }
   ],
   "source": [
    "listkeys = []\n",
    "for k in dictb.iterkeys():\n",
    "    listkeys.append(k)\n",
    "listkeys"
   ]
  },
  {
   "cell_type": "code",
   "execution_count": 17,
   "metadata": {
    "collapsed": false
   },
   "outputs": [],
   "source": [
    "entities = \"createentity.fileid=dict_file['file_id'] createentity.uploader=entry[apps_header[0]] createentity.region=entry[apps_header[1]] createentity.segment=entry[apps_header[2]] createentity.vertical=entry[_cre1l] createentity.initiative=entry[nameofcampaigninitiative] createentity.channel=entry[channelthroughwhichthecampaignisrun] createentity.subchannel=entry[_ckd7g] createentity.country=entry[optionalselectfrompicklist] createentity.description=entry[charactersmax.] createentity.launchdate=entry[formatddmmyyyythedatewhenyourcampaignwillbegingeneratingleads] createentity.endate=entry[formatddmmyyyythedatewhenyouexpectallactivitiesaroundthiscampaigntostop] createentity.campaignname=entry[auto-generated.donotedit.onlygeneratedwhenrequiredfieldsarecomplete] createentity.campaignowner=entry[googleemailaddressofcampaignowner] createentity.abm_method=entry[forbullseyecampaignsonlymoreinfo-httpsdocs.google.comdocumentd1arqcrfcicnp8dcfws6pbthyyscwlzbntgx0bgtvq-1geditheadingh.r66qubfwnvzw] createentity.abm_activity=entry[_cvlqs] createentity.campaignbrief=entry[linktocampaignbriefgoogledocordrivefolderlinkonly]\""
   ]
  },
  {
   "cell_type": "code",
   "execution_count": 19,
   "metadata": {
    "collapsed": false
   },
   "outputs": [],
   "source": [
    "import re"
   ]
  },
  {
   "cell_type": "code",
   "execution_count": 30,
   "metadata": {
    "collapsed": true
   },
   "outputs": [],
   "source": [
    "strings = re.search('\\.[a-z]\\=',entities)"
   ]
  },
  {
   "cell_type": "code",
   "execution_count": 31,
   "metadata": {
    "collapsed": true
   },
   "outputs": [],
   "source": [
    "strings"
   ]
  },
  {
   "cell_type": "code",
   "execution_count": 32,
   "metadata": {
    "collapsed": false
   },
   "outputs": [
    {
     "data": {
      "text/plain": [
       "'a'"
      ]
     },
     "execution_count": 32,
     "metadata": {},
     "output_type": "execute_result"
    }
   ],
   "source": [
    "ll[0]"
   ]
  },
  {
   "cell_type": "code",
   "execution_count": 90,
   "metadata": {
    "collapsed": true
   },
   "outputs": [],
   "source": [
    "def alpha():\n",
    "    x = 1\n",
    "    return x\n",
    "    \n",
    "def beta():\n",
    "    x = 2\n",
    "    return x\n",
    "\n",
    "def theta():\n",
    "    x = 4\n",
    "    return x\n",
    "    "
   ]
  },
  {
   "cell_type": "code",
   "execution_count": 118,
   "metadata": {
    "collapsed": false
   },
   "outputs": [
    {
     "data": {
      "text/plain": [
       "(-1, 66, 4444444)"
      ]
     },
     "execution_count": 118,
     "metadata": {},
     "output_type": "execute_result"
    }
   ],
   "source": [
    "class P():\n",
    "    z = 23\n",
    "    x = 45\n",
    "    y = 67\n",
    "a = P()\n",
    "\n",
    "def cf(o, p):\n",
    "    o = o\n",
    "    p = p\n",
    "    def zzz(v):\n",
    "            setattr(o, p, v)\n",
    "    return zzz\n",
    "\n",
    "f = cf(a, \"z\")\n",
    "\n",
    "f(909)\n",
    "#setattr(a,\"z\",777)\n",
    "e = [cf(a, \"z\"), cf(a, \"x\"), cf(a, \"y\")]\n",
    "e\n",
    "e[0](-1)\n",
    "e[1](66)\n",
    "e[2](4444444)\n",
    "a.z, a.x, a.y"
   ]
  },
  {
   "cell_type": "code",
   "execution_count": 119,
   "metadata": {
    "collapsed": false
   },
   "outputs": [
    {
     "name": "stdout",
     "output_type": "stream",
     "text": [
      "Help on built-in function setattr in module __builtin__:\n",
      "\n",
      "setattr(...)\n",
      "    setattr(object, name, value)\n",
      "    \n",
      "    Set a named attribute on an object; setattr(x, 'y', v) is equivalent to\n",
      "    ``x.y = v''.\n",
      "\n"
     ]
    }
   ],
   "source": [
    "help(setattr)"
   ]
  },
  {
   "cell_type": "code",
   "execution_count": 91,
   "metadata": {
    "collapsed": false
   },
   "outputs": [],
   "source": [
    "a = alpha()\n",
    "b = beta()\n",
    "c = theta()\n",
    "\n",
    "lp = [a,b,c]"
   ]
  },
  {
   "cell_type": "code",
   "execution_count": 107,
   "metadata": {
    "collapsed": false
   },
   "outputs": [
    {
     "ename": "TypeError",
     "evalue": "'tuple' object does not support item assignment",
     "output_type": "error",
     "traceback": [
      "\u001b[0;31m---------------------------------------------------------------------------\u001b[0m",
      "\u001b[0;31mTypeError\u001b[0m                                 Traceback (most recent call last)",
      "\u001b[0;32m<ipython-input-107-175f67ab709e>\u001b[0m in \u001b[0;36m<module>\u001b[0;34m()\u001b[0m\n\u001b[1;32m      1\u001b[0m \u001b[0mlp\u001b[0m \u001b[0;34m=\u001b[0m \u001b[0;34m(\u001b[0m\u001b[0ma\u001b[0m\u001b[0;34m,\u001b[0m\u001b[0mb\u001b[0m\u001b[0;34m,\u001b[0m\u001b[0mc\u001b[0m\u001b[0;34m)\u001b[0m\u001b[0;34m\u001b[0m\u001b[0m\n\u001b[0;32m----> 2\u001b[0;31m \u001b[0mlp\u001b[0m\u001b[0;34m[\u001b[0m\u001b[0;36m0\u001b[0m\u001b[0;34m]\u001b[0m \u001b[0;34m=\u001b[0m \u001b[0;36m100\u001b[0m\u001b[0;34m\u001b[0m\u001b[0m\n\u001b[0m",
      "\u001b[0;31mTypeError\u001b[0m: 'tuple' object does not support item assignment"
     ]
    }
   ],
   "source": [
    "lp = (a,b,c)\n",
    "lp[0] = 100\n",
    "lp[0](100)"
   ]
  },
  {
   "cell_type": "code",
   "execution_count": null,
   "metadata": {
    "collapsed": true
   },
   "outputs": [],
   "source": []
  },
  {
   "cell_type": "code",
   "execution_count": 92,
   "metadata": {
    "collapsed": false
   },
   "outputs": [
    {
     "data": {
      "text/plain": [
       "[1, 2, 4]"
      ]
     },
     "execution_count": 92,
     "metadata": {},
     "output_type": "execute_result"
    }
   ],
   "source": [
    "lp"
   ]
  },
  {
   "cell_type": "code",
   "execution_count": 95,
   "metadata": {
    "collapsed": false
   },
   "outputs": [],
   "source": [
    "lp[0] = 100"
   ]
  },
  {
   "cell_type": "code",
   "execution_count": 96,
   "metadata": {
    "collapsed": false
   },
   "outputs": [
    {
     "data": {
      "text/plain": [
       "1"
      ]
     },
     "execution_count": 96,
     "metadata": {},
     "output_type": "execute_result"
    }
   ],
   "source": [
    "a"
   ]
  },
  {
   "cell_type": "code",
   "execution_count": 97,
   "metadata": {
    "collapsed": false
   },
   "outputs": [
    {
     "data": {
      "text/plain": [
       "[100, 2, 4]"
      ]
     },
     "execution_count": 97,
     "metadata": {},
     "output_type": "execute_result"
    }
   ],
   "source": [
    "lp"
   ]
  },
  {
   "cell_type": "code",
   "execution_count": 120,
   "metadata": {
    "collapsed": true
   },
   "outputs": [],
   "source": [
    "from datetime import datetime\n",
    "\n",
    "\n",
    "d = \"06/01/2016\"\n",
    "\n",
    "s = d.split(\"/\")[2]+\"-\"+d.split(\"/\")[1]+\"-\"+d.split(\"/\")[0]"
   ]
  },
  {
   "cell_type": "code",
   "execution_count": 121,
   "metadata": {
    "collapsed": false
   },
   "outputs": [
    {
     "data": {
      "text/plain": [
       "'2016-01-06'"
      ]
     },
     "execution_count": 121,
     "metadata": {},
     "output_type": "execute_result"
    }
   ],
   "source": [
    "apps_parentcampaigns = "
   ]
  },
  {
   "cell_type": "code",
   "execution_count": 124,
   "metadata": {
    "collapsed": false
   },
   "outputs": [
    {
     "ename": "NameError",
     "evalue": "name 'Key' is not defined",
     "output_type": "error",
     "traceback": [
      "\u001b[0;31m---------------------------------------------------------------------------\u001b[0m",
      "\u001b[0;31mNameError\u001b[0m                                 Traceback (most recent call last)",
      "\u001b[0;32m<ipython-input-124-1dd1b9835d98>\u001b[0m in \u001b[0;36m<module>\u001b[0;34m()\u001b[0m\n\u001b[0;32m----> 1\u001b[0;31m \u001b[0mda\u001b[0m \u001b[0;34m=\u001b[0m \u001b[0;34m[\u001b[0m\u001b[0mKey\u001b[0m\u001b[0;34m(\u001b[0m\u001b[0;34m(\u001b[0m\u001b[0;34m'apps_parentcampaigns'\u001b[0m\u001b[0;34m,\u001b[0m \u001b[0;36m5176962989424640\u001b[0m\u001b[0;34m)\u001b[0m\u001b[0;34m,\u001b[0m \u001b[0mparentid\u001b[0m\u001b[0;34m=\u001b[0m\u001b[0;34mu'70160000000t1yKAAQ'\u001b[0m\u001b[0;34m,\u001b[0m \u001b[0m_projection\u001b[0m\u001b[0;34m=\u001b[0m\u001b[0;34m(\u001b[0m\u001b[0;34m'parentid'\u001b[0m\u001b[0;34m,\u001b[0m\u001b[0;34m)\u001b[0m\u001b[0;34m)\u001b[0m\u001b[0;34m]\u001b[0m\u001b[0;34m\u001b[0m\u001b[0m\n\u001b[0m",
      "\u001b[0;31mNameError\u001b[0m: name 'Key' is not defined"
     ]
    }
   ],
   "source": [
    "da = [apps_parentcampaigns(key=Key('apps_parentcampaigns', 5176962989424640), parentid=u'70160000000t1yKAAQ', _projection=('parentid',))]"
   ]
  },
  {
   "cell_type": "code",
   "execution_count": 129,
   "metadata": {
    "collapsed": false
   },
   "outputs": [],
   "source": [
    "da = [(\"a\",\"b\",\"c\",\"d\")]"
   ]
  },
  {
   "cell_type": "code",
   "execution_count": 131,
   "metadata": {
    "collapsed": false
   },
   "outputs": [
    {
     "data": {
      "text/plain": [
       "'b'"
      ]
     },
     "execution_count": 131,
     "metadata": {},
     "output_type": "execute_result"
    }
   ],
   "source": [
    "da[0][1]"
   ]
  },
  {
   "cell_type": "code",
   "execution_count": 133,
   "metadata": {
    "collapsed": false
   },
   "outputs": [
    {
     "data": {
      "text/plain": [
       "[1, 'None', 2]"
      ]
     },
     "execution_count": 133,
     "metadata": {},
     "output_type": "execute_result"
    }
   ],
   "source": [
    "dict1 = {\"a\":1,\"b\":2,\"c\":3}\n",
    "list1 = [\"a\",\"e\",\"b\"]\n",
    "out = []\n",
    "\n",
    "for i in range(3):\n",
    "    try:\n",
    "        y = dict1[list1[i]]\n",
    "    except KeyError:\n",
    "        y = \"None\"\n",
    "    output = out.append(y)\n",
    "out"
   ]
  },
  {
   "cell_type": "code",
   "execution_count": 134,
   "metadata": {
    "collapsed": true
   },
   "outputs": [],
   "source": [
    "import cgi\n",
    "import requests\n",
    "import json\n",
    "from simple_salesforce import Salesforce\n"
   ]
  },
  {
   "cell_type": "code",
   "execution_count": 147,
   "metadata": {
    "collapsed": false
   },
   "outputs": [],
   "source": [
    "    sf = Salesforce(username='feedthebeast@google.com', password='London123', security_token='WmsPAWMZ6PtvxsCTuwpcoczn')"
   ]
  },
  {
   "cell_type": "code",
   "execution_count": 148,
   "metadata": {
    "collapsed": true
   },
   "outputs": [
    {
     "ename": "SalesforceMalformedRequest",
     "evalue": "Malformed request https://unify.my.salesforce.com/services/data/v29.0/sobjects/Campaign/. Response content: [{u'errorCode': u'INVALID_FIELD', u'message': u\"No such column 'robonon' on sobject of type Campaign\"}]",
     "output_type": "error",
     "traceback": [
      "\u001b[0;31m---------------------------------------------------------------------------\u001b[0m",
      "\u001b[0;31mSalesforceMalformedRequest\u001b[0m                Traceback (most recent call last)",
      "\u001b[0;32m<ipython-input-148-7fe5171a2bbc>\u001b[0m in \u001b[0;36m<module>\u001b[0;34m()\u001b[0m\n\u001b[0;32m----> 1\u001b[0;31m \u001b[0mcamp\u001b[0m \u001b[0;34m=\u001b[0m \u001b[0msf\u001b[0m\u001b[0;34m.\u001b[0m\u001b[0mCampaign\u001b[0m\u001b[0;34m.\u001b[0m\u001b[0mcreate\u001b[0m\u001b[0;34m(\u001b[0m\u001b[0;34m{\u001b[0m\u001b[0;34m'Name'\u001b[0m\u001b[0;34m:\u001b[0m\u001b[0;34m'testfromjupyter-1'\u001b[0m\u001b[0;34m,\u001b[0m\u001b[0;34m'robonon'\u001b[0m\u001b[0;34m:\u001b[0m\u001b[0;34m'yyy'\u001b[0m\u001b[0;34m}\u001b[0m\u001b[0;34m)\u001b[0m\u001b[0;34m\u001b[0m\u001b[0m\n\u001b[0m",
      "\u001b[0;32m/Users/yomit/anaconda/lib/python2.7/site-packages/simple_salesforce/api.pyc\u001b[0m in \u001b[0;36mcreate\u001b[0;34m(self, data)\u001b[0m\n\u001b[1;32m    474\u001b[0m         \"\"\"\n\u001b[1;32m    475\u001b[0m         result = self._call_salesforce('POST', self.base_url,\n\u001b[0;32m--> 476\u001b[0;31m                                        data=json.dumps(data))\n\u001b[0m\u001b[1;32m    477\u001b[0m         \u001b[0;32mreturn\u001b[0m \u001b[0mresult\u001b[0m\u001b[0;34m.\u001b[0m\u001b[0mjson\u001b[0m\u001b[0;34m(\u001b[0m\u001b[0mobject_pairs_hook\u001b[0m\u001b[0;34m=\u001b[0m\u001b[0mOrderedDict\u001b[0m\u001b[0;34m)\u001b[0m\u001b[0;34m\u001b[0m\u001b[0m\n\u001b[1;32m    478\u001b[0m \u001b[0;34m\u001b[0m\u001b[0m\n",
      "\u001b[0;32m/Users/yomit/anaconda/lib/python2.7/site-packages/simple_salesforce/api.pyc\u001b[0m in \u001b[0;36m_call_salesforce\u001b[0;34m(self, method, url, **kwargs)\u001b[0m\n\u001b[1;32m    574\u001b[0m \u001b[0;34m\u001b[0m\u001b[0m\n\u001b[1;32m    575\u001b[0m         \u001b[0;32mif\u001b[0m \u001b[0mresult\u001b[0m\u001b[0;34m.\u001b[0m\u001b[0mstatus_code\u001b[0m \u001b[0;34m>=\u001b[0m \u001b[0;36m300\u001b[0m\u001b[0;34m:\u001b[0m\u001b[0;34m\u001b[0m\u001b[0m\n\u001b[0;32m--> 576\u001b[0;31m             \u001b[0m_exception_handler\u001b[0m\u001b[0;34m(\u001b[0m\u001b[0mresult\u001b[0m\u001b[0;34m,\u001b[0m \u001b[0mself\u001b[0m\u001b[0;34m.\u001b[0m\u001b[0mname\u001b[0m\u001b[0;34m)\u001b[0m\u001b[0;34m\u001b[0m\u001b[0m\n\u001b[0m\u001b[1;32m    577\u001b[0m \u001b[0;34m\u001b[0m\u001b[0m\n\u001b[1;32m    578\u001b[0m         \u001b[0;32mreturn\u001b[0m \u001b[0mresult\u001b[0m\u001b[0;34m\u001b[0m\u001b[0m\n",
      "\u001b[0;32m/Users/yomit/anaconda/lib/python2.7/site-packages/simple_salesforce/api.pyc\u001b[0m in \u001b[0;36m_exception_handler\u001b[0;34m(result, name)\u001b[0m\n\u001b[1;32m    640\u001b[0m     \u001b[0mexc_cls\u001b[0m \u001b[0;34m=\u001b[0m \u001b[0mexc_map\u001b[0m\u001b[0;34m.\u001b[0m\u001b[0mget\u001b[0m\u001b[0;34m(\u001b[0m\u001b[0mresult\u001b[0m\u001b[0;34m.\u001b[0m\u001b[0mstatus_code\u001b[0m\u001b[0;34m,\u001b[0m \u001b[0mSalesforceGeneralError\u001b[0m\u001b[0;34m)\u001b[0m\u001b[0;34m\u001b[0m\u001b[0m\n\u001b[1;32m    641\u001b[0m \u001b[0;34m\u001b[0m\u001b[0m\n\u001b[0;32m--> 642\u001b[0;31m     \u001b[0;32mraise\u001b[0m \u001b[0mexc_cls\u001b[0m\u001b[0;34m(\u001b[0m\u001b[0mresult\u001b[0m\u001b[0;34m.\u001b[0m\u001b[0murl\u001b[0m\u001b[0;34m,\u001b[0m \u001b[0mresult\u001b[0m\u001b[0;34m.\u001b[0m\u001b[0mstatus_code\u001b[0m\u001b[0;34m,\u001b[0m \u001b[0mname\u001b[0m\u001b[0;34m,\u001b[0m \u001b[0mresponse_content\u001b[0m\u001b[0;34m)\u001b[0m\u001b[0;34m\u001b[0m\u001b[0m\n\u001b[0m\u001b[1;32m    643\u001b[0m \u001b[0;34m\u001b[0m\u001b[0m\n\u001b[1;32m    644\u001b[0m \u001b[0;34m\u001b[0m\u001b[0m\n",
      "\u001b[0;31mSalesforceMalformedRequest\u001b[0m: Malformed request https://unify.my.salesforce.com/services/data/v29.0/sobjects/Campaign/. Response content: [{u'errorCode': u'INVALID_FIELD', u'message': u\"No such column 'robonon' on sobject of type Campaign\"}]"
     ]
    }
   ],
   "source": [
    "camp = sf.Campaign.create({'Name':'testfromjupyter-1'})"
   ]
  },
  {
   "cell_type": "code",
   "execution_count": 139,
   "metadata": {
    "collapsed": false
   },
   "outputs": [
    {
     "data": {
      "text/plain": [
       "OrderedDict([(u'id', u'70160000000ZSc8AAG'),\n",
       "             (u'success', True),\n",
       "             (u'errors', [])])"
      ]
     },
     "execution_count": 139,
     "metadata": {},
     "output_type": "execute_result"
    }
   ],
   "source": [
    "camp"
   ]
  },
  {
   "cell_type": "code",
   "execution_count": 141,
   "metadata": {
    "collapsed": false
   },
   "outputs": [],
   "source": [
    "sid = camp['id']"
   ]
  },
  {
   "cell_type": "code",
   "execution_count": 146,
   "metadata": {
    "collapsed": false
   },
   "outputs": [
    {
     "name": "stdout",
     "output_type": "stream",
     "text": [
      "70160000000ZSc8AAG\n"
     ]
    }
   ],
   "source": [
    "print str(sid)"
   ]
  },
  {
   "cell_type": "code",
   "execution_count": 149,
   "metadata": {
    "collapsed": true
   },
   "outputs": [],
   "source": [
    "lo = ['id1','id2','id3']\n",
    "\n",
    "dictlo = [{'Name':'testfromjupyter-1','robonon':'yyy'},{'Name':'testfromjupyter-2','robonon':'yyy'},{'Name':'testfromjupyter-3','robonon':'yyy'}]"
   ]
  },
  {
   "cell_type": "code",
   "execution_count": 152,
   "metadata": {
    "collapsed": true
   },
   "outputs": [],
   "source": [
    "lo = 'id2'\n",
    "dictlo = {'Name':'testfromjupyter-2','robonon':'yyy'}\n",
    "\n",
    "dictlo['id'] = lo\n",
    "zanz.append(dictlo)"
   ]
  },
  {
   "cell_type": "code",
   "execution_count": 153,
   "metadata": {
    "collapsed": false
   },
   "outputs": [
    {
     "data": {
      "text/plain": [
       "[{'Name': 'testfromjupyter-1', 'id': 'id1', 'robonon': 'yyy'},\n",
       " {'Name': 'testfromjupyter-2', 'id': 'id2', 'robonon': 'yyy'}]"
      ]
     },
     "execution_count": 153,
     "metadata": {},
     "output_type": "execute_result"
    }
   ],
   "source": [
    "zanz"
   ]
  },
  {
   "cell_type": "code",
   "execution_count": 154,
   "metadata": {
    "collapsed": false
   },
   "outputs": [
    {
     "name": "stdout",
     "output_type": "stream",
     "text": [
      "id2\n"
     ]
    }
   ],
   "source": [
    "for x in zanz:\n",
    "    if x['Name'] == 'testfromjupyter-2':\n",
    "        print x['id']"
   ]
  },
  {
   "cell_type": "code",
   "execution_count": 166,
   "metadata": {
    "collapsed": true
   },
   "outputs": [],
   "source": [
    "gg = [{'errors': [{'fields': ['StartDate','DD','PP'], 'message': 'The campaign end date should not be before the start date.: Start Date', 'statusCode': 'FIELD_INTEGRITY_EXCEPTION'}], 'id': '', 'success': False}]"
   ]
  },
  {
   "cell_type": "code",
   "execution_count": 167,
   "metadata": {
    "collapsed": false
   },
   "outputs": [
    {
     "data": {
      "text/plain": [
       "'StartDate,DD,PP'"
      ]
     },
     "execution_count": 167,
     "metadata": {},
     "output_type": "execute_result"
    }
   ],
   "source": [
    "\",\".join((gg[0]['errors'][0]['fields']))"
   ]
  },
  {
   "cell_type": "code",
   "execution_count": 169,
   "metadata": {
    "collapsed": false
   },
   "outputs": [
    {
     "data": {
      "text/plain": [
       "'The campaign end date should not be before the start date.: Start Date'"
      ]
     },
     "execution_count": 169,
     "metadata": {},
     "output_type": "execute_result"
    }
   ],
   "source": [
    "((gg[0]['errors'][0]['message']))"
   ]
  },
  {
   "cell_type": "code",
   "execution_count": 193,
   "metadata": {
    "collapsed": false
   },
   "outputs": [
    {
     "name": "stdout",
     "output_type": "stream",
     "text": [
      "camp1\n",
      "camp2\n",
      "camp3\n"
     ]
    }
   ],
   "source": [
    "listcamps=[\"camp1\",\"camp2\",\"camp3\"]\n",
    "body = \"\"\"\"these are campaigns: %s\"\"\" %(str(bodyprinter()))"
   ]
  },
  {
   "cell_type": "code",
   "execution_count": 184,
   "metadata": {
    "collapsed": false
   },
   "outputs": [
    {
     "ename": "SyntaxError",
     "evalue": "invalid syntax (<ipython-input-184-3b34d7b73abd>, line 1)",
     "output_type": "error",
     "traceback": [
      "\u001b[0;36m  File \u001b[0;32m\"<ipython-input-184-3b34d7b73abd>\"\u001b[0;36m, line \u001b[0;32m1\u001b[0m\n\u001b[0;31m    [print\"%s\"%(x) for x in listcamps]\u001b[0m\n\u001b[0m         ^\u001b[0m\n\u001b[0;31mSyntaxError\u001b[0m\u001b[0;31m:\u001b[0m invalid syntax\n"
     ]
    }
   ],
   "source": [
    "[print\"%s\"%(x) for x in listcamps]"
   ]
  },
  {
   "cell_type": "code",
   "execution_count": 199,
   "metadata": {
    "collapsed": false
   },
   "outputs": [
    {
     "name": "stdout",
     "output_type": "stream",
     "text": [
      "these are campaigns: \n",
      "camp1\n",
      "camp2\n",
      "camp3\n",
      "\n"
     ]
    }
   ],
   "source": [
    "s = \"these are campaigns: \\n\"\n",
    "for x in listcamps:\n",
    "    s += str(x)+\"\\n\"\n",
    "print s"
   ]
  },
  {
   "cell_type": "code",
   "execution_count": 202,
   "metadata": {
    "collapsed": false
   },
   "outputs": [],
   "source": [
    "title = \"tbd\"\n",
    "body = \"tbd\""
   ]
  },
  {
   "cell_type": "code",
   "execution_count": 204,
   "metadata": {
    "collapsed": false
   },
   "outputs": [],
   "source": [
    "html = \"\"\"<html><head>\n",
    "<meta charset=\"UTF-8\">\n",
    "<title>Google</title>\n",
    "\n",
    "<style type=\"text/css\">\n",
    "@media screen {\n",
    "@import url(http://fonts.googleapis.com/css?family=Open+Sans:400,300);\n",
    "#Headline {\n",
    "font-family: 'Open Sans', Arial, Helvetica, sans-serif !important;\n",
    "font-weight: 300;\n",
    "color: #fff;\n",
    "font-size: 22px;\n",
    "line-height: 26px;\n",
    "}\n",
    "}\n",
    "body, td, th {\n",
    "font-family: Arial, Helvetica, sans-serif;\n",
    "font-size: 12px;\n",
    "text-align: left;\n",
    "}\n",
    "body {\n",
    "margin-left: 0px;\n",
    "margin-top: 0px;\n",
    "margin-right: 0px;\n",
    "margin-bottom: 0px;\n",
    "}\n",
    "a:link {\n",
    "color: #245dc1;\n",
    "}\n",
    "a:visited {\n",
    "color: #245dc1;\n",
    "}\n",
    "a:hover {\n",
    "color: #245dc1;\n",
    "}\n",
    "a:active {\n",
    "color: #245dc1;\n",
    "}\n",
    "p {margin-top:0; padding-top:0;}\n",
    "</style>\n",
    "</head>\n",
    "<body ><div align=\"center\" ><table border=\"0\" cellpadding=\"0\" cellspacing=\"0\" width=\"600\" ><tbody ><tr ><td style=\"border:1px solid #A1A1A1; \" valign=\"top\" ><table border=\"0\" cellpadding=\"0\" cellspacing=\"0\" width=\"100%%\" ><tbody ><tr ><td valign=\"top\" ><table border=\"0\" cellpadding=\"0\" cellspacing=\"0\" width=\"100%%\" ><tbody ><tr ><td width=\"258\" ><div class=\"mktEditable\" id=\"Logo\" ><img alt=\"Google for Work\" height=\"93\" src=\"http://lp.google-mkto.com/rs/google/images/GOO-2062-GoogleForWork_OfferEmail_v1_03c.jpg\" style=\"display:block;\" width=\"258\"></div>\n",
    "</td>\n",
    "<td style=\"text-align:right; padding-right:30px;\" valign=\"middle\">&nbsp;</td>\n",
    "</tr>\n",
    "</tbody>\n",
    "</table>\n",
    "</td>\n",
    "</tr>\n",
    "<tr ><td style=\"border-top:1px solid #7E8385; border-bottom:1px solid #7E8385; \" valign=\"top\" ><table border=\"0\" cellpadding=\"0\" cellspacing=\"0\" width=\"100%%\" ><tbody ><tr ><td style=\"background:#74797C; padding:15px 34px; \" ><div class=\"mktEditable\" id=\"Headline\" style=\"font-family:'Open Sans', Arial, Helvetica, sans-serif; font-weight:300; color:#fff; font-size:22px; line-height:26px; text-align:left; \" >%s</div>\n",
    "</td>\n",
    "</tr>\n",
    "</tbody>\n",
    "</table>\n",
    "</td>\n",
    "</tr>\n",
    "<tr ><td style=\"padding:20px 35px 35px 35px; \" valign=\"top\" ><table border=\"0\" cellpadding=\"0\" cellspacing=\"0\" width=\"100%%\" ><tbody ><tr ><td style=\"font-family:Arial, Helvetica, sans-serif; font-size:13px; line-height:18px; color:#3f3f3f; text-align:left; padding-right:45px; \" valign=\"top\" ><div class=\"mktEditable\" id=\"Body\" ><p>&nbsp;</p>\n",
    "<p>%s</p></div>\n",
    "</td>\n",
    "</tr>\n",
    "</tbody>\n",
    "</table>\n",
    "</td>\n",
    "</tr>\n",
    "<tr>\n",
    "<td style=\"background:#F7F7F8; text-align:center; padding:30px 0;\" valign=\"top\">\n",
    "<div align=\"center\">&nbsp;</div>\n",
    "</td>\n",
    "</tr>\n",
    "</tbody>\n",
    "</table>\n",
    "</td>\n",
    "</tr>\n",
    "<tr ><td style=\"padding:15px 30px; font-size:10px; line-height:14px; color:#76787a; text-align:left; \" valign=\"top\" ><div class=\"mktEditable\" id=\"Footer\" >© 2015 Google Inc. 1600 Amphitheatre Parkway, Mountain View, CA 94043.</div>\n",
    "</td>\n",
    "</tr>\n",
    "</tbody>\n",
    "</table>\n",
    "</div>\n",
    "</body>\n",
    "</html>\"\"\".decode('utf8','ignore') %(title,body)"
   ]
  },
  {
   "cell_type": "code",
   "execution_count": 205,
   "metadata": {
    "collapsed": false
   },
   "outputs": [
    {
     "data": {
      "text/plain": [
       "u'<html><head>\\n<meta charset=\"UTF-8\">\\n<title>Google</title>\\n\\n<style type=\"text/css\">\\n@media screen {\\n@import url(http://fonts.googleapis.com/css?family=Open+Sans:400,300);\\n#Headline {\\nfont-family: \\'Open Sans\\', Arial, Helvetica, sans-serif !important;\\nfont-weight: 300;\\ncolor: #fff;\\nfont-size: 22px;\\nline-height: 26px;\\n}\\n}\\nbody, td, th {\\nfont-family: Arial, Helvetica, sans-serif;\\nfont-size: 12px;\\ntext-align: left;\\n}\\nbody {\\nmargin-left: 0px;\\nmargin-top: 0px;\\nmargin-right: 0px;\\nmargin-bottom: 0px;\\n}\\na:link {\\ncolor: #245dc1;\\n}\\na:visited {\\ncolor: #245dc1;\\n}\\na:hover {\\ncolor: #245dc1;\\n}\\na:active {\\ncolor: #245dc1;\\n}\\np {margin-top:0; padding-top:0;}\\n</style>\\n</head>\\n<body ><div align=\"center\" ><table border=\"0\" cellpadding=\"0\" cellspacing=\"0\" width=\"600\" ><tbody ><tr ><td style=\"border:1px solid #A1A1A1; \" valign=\"top\" ><table border=\"0\" cellpadding=\"0\" cellspacing=\"0\" width=\"100%\" ><tbody ><tr ><td valign=\"top\" ><table border=\"0\" cellpadding=\"0\" cellspacing=\"0\" width=\"100%\" ><tbody ><tr ><td width=\"258\" ><div class=\"mktEditable\" id=\"Logo\" ><img alt=\"Google for Work\" height=\"93\" src=\"http://lp.google-mkto.com/rs/google/images/GOO-2062-GoogleForWork_OfferEmail_v1_03c.jpg\" style=\"display:block;\" width=\"258\"></div>\\n</td>\\n<td style=\"text-align:right; padding-right:30px;\" valign=\"middle\">&nbsp;</td>\\n</tr>\\n</tbody>\\n</table>\\n</td>\\n</tr>\\n<tr ><td style=\"border-top:1px solid #7E8385; border-bottom:1px solid #7E8385; \" valign=\"top\" ><table border=\"0\" cellpadding=\"0\" cellspacing=\"0\" width=\"100%\" ><tbody ><tr ><td style=\"background:#74797C; padding:15px 34px; \" ><div class=\"mktEditable\" id=\"Headline\" style=\"font-family:\\'Open Sans\\', Arial, Helvetica, sans-serif; font-weight:300; color:#fff; font-size:22px; line-height:26px; text-align:left; \" >tbd</div>\\n</td>\\n</tr>\\n</tbody>\\n</table>\\n</td>\\n</tr>\\n<tr ><td style=\"padding:20px 35px 35px 35px; \" valign=\"top\" ><table border=\"0\" cellpadding=\"0\" cellspacing=\"0\" width=\"100%\" ><tbody ><tr ><td style=\"font-family:Arial, Helvetica, sans-serif; font-size:13px; line-height:18px; color:#3f3f3f; text-align:left; padding-right:45px; \" valign=\"top\" ><div class=\"mktEditable\" id=\"Body\" ><p>&nbsp;</p>\\n<p>tbd</p></div>\\n</td>\\n</tr>\\n</tbody>\\n</table>\\n</td>\\n</tr>\\n<tr>\\n<td style=\"background:#F7F7F8; text-align:center; padding:30px 0;\" valign=\"top\">\\n<div align=\"center\">&nbsp;</div>\\n</td>\\n</tr>\\n</tbody>\\n</table>\\n</td>\\n</tr>\\n<tr ><td style=\"padding:15px 30px; font-size:10px; line-height:14px; color:#76787a; text-align:left; \" valign=\"top\" ><div class=\"mktEditable\" id=\"Footer\" >\\xa9 2015 Google Inc. 1600 Amphitheatre Parkway, Mountain View, CA 94043.</div>\\n</td>\\n</tr>\\n</tbody>\\n</table>\\n</div>\\n</body>\\n</html>'"
      ]
     },
     "execution_count": 205,
     "metadata": {},
     "output_type": "execute_result"
    }
   ],
   "source": [
    "html"
   ]
  },
  {
   "cell_type": "code",
   "execution_count": 206,
   "metadata": {
    "collapsed": false
   },
   "outputs": [
    {
     "ename": "SyntaxError",
     "evalue": "invalid syntax (<ipython-input-206-361772a24fcc>, line 2)",
     "output_type": "error",
     "traceback": [
      "\u001b[0;36m  File \u001b[0;32m\"<ipython-input-206-361772a24fcc>\"\u001b[0;36m, line \u001b[0;32m2\u001b[0m\n\u001b[0;31m    Hello, \"\"\" + \"\\n\" +\u001b[0m\n\u001b[0m                       \n^\u001b[0m\n\u001b[0;31mSyntaxError\u001b[0m\u001b[0;31m:\u001b[0m invalid syntax\n"
     ]
    }
   ],
   "source": [
    " body = \"\"\"\n",
    "    Hello, \"\"\" + \"\\n\" +\n",
    "    \"\"\"Your\"\"\""
   ]
  },
  {
   "cell_type": "code",
   "execution_count": 215,
   "metadata": {
    "collapsed": false
   },
   "outputs": [],
   "source": [
    " body = \"\"\"Hello, \"\"\" + \"\\n\" +\"\"\"Your \n",
    " thing\"\"\""
   ]
  },
  {
   "cell_type": "code",
   "execution_count": 210,
   "metadata": {
    "collapsed": false
   },
   "outputs": [
    {
     "data": {
      "text/plain": [
       "'Hello, \\nYour'"
      ]
     },
     "execution_count": 210,
     "metadata": {},
     "output_type": "execute_result"
    }
   ],
   "source": [
    "body"
   ]
  },
  {
   "cell_type": "code",
   "execution_count": 216,
   "metadata": {
    "collapsed": false
   },
   "outputs": [
    {
     "name": "stdout",
     "output_type": "stream",
     "text": [
      "Hello, \n",
      "Your \n",
      "thing\n"
     ]
    }
   ],
   "source": [
    "print body"
   ]
  },
  {
   "cell_type": "code",
   "execution_count": 222,
   "metadata": {
    "collapsed": false
   },
   "outputs": [],
   "source": [
    "body = \"\"\"\n",
    "    Hello, \"\"\" + \"\\n\" +\"\"\"Your campaign creation file - <strong>%s</strong> \n",
    "    is being processed.\"\"\" %(title) +\"\\n\""
   ]
  },
  {
   "cell_type": "code",
   "execution_count": 234,
   "metadata": {
    "collapsed": false
   },
   "outputs": [],
   "source": [
    "body = \"\"\"\n",
    "    Hello, \n",
    "    Your campaign creation file - <strong>%s</strong> is being processed.\n",
    "    We will keep you in the loop as we process your file.\n",
    "    For more information about the campaign creation process please visit go/createacampaign.\n",
    "\n",
    "    Best Regards,\n",
    "\n",
    "    The Marketing Technology Team (MTT)\"\"\" %(title)"
   ]
  },
  {
   "cell_type": "code",
   "execution_count": 235,
   "metadata": {
    "collapsed": false
   },
   "outputs": [
    {
     "data": {
      "text/plain": [
       "'\\n    Hello, \\n    Your campaign creation file - <strong>tbd</strong> is being processed.\\n    We will keep you in the loop as we process your file.\\n    For more information about the campaign creation process please visit go/createacampaign.\\n\\n    Best Regards,\\n\\n    The Marketing Technology Team (MTT)'"
      ]
     },
     "execution_count": 235,
     "metadata": {},
     "output_type": "execute_result"
    }
   ],
   "source": [
    "body"
   ]
  },
  {
   "cell_type": "code",
   "execution_count": 236,
   "metadata": {
    "collapsed": true
   },
   "outputs": [],
   "source": [
    "dicthead = {'googleemailaddressofcampaignowner': 'Campaign Owner Email Address', 'nameofcampaigninitiative': 'Initiative', 'l3parentname': None, 'forbullseyecampaignsonlymoreinfo-httpsdocs.google.comdocumentd1arqcrfcicnp8dcfws6pbthyyscwlzbntgx0bgtvq-1geditheadingh.r66qubfwnvzw': 'Methodology Stage', 'formatddmmyyyythedatewhenyouexpectallactivitiesaroundthiscampaigntostop': 'End Date', 'targetaudience': 'Segment', 'enteryoure-mailaddressinfulle.gmyemailgoogle.comandcopydowntoallrecords': 'Uploader Email Address', '_cvlqs': 'Activity Name', 'selectfrompicklist': 'Region', 'optionalselectfrompicklist': 'Country/Region', 'charactersmax.': 'Description', 'namelength': None, 'linktocampaignbriefgoogledocordrivefolderlinkonly': 'Campaign Brief', '_ckd7g': 'Sub-channel', '_cre1l': 'Vertical', 'formatddmmyyyythedatewhenyourcampaignwillbegingeneratingleads': 'Launch Date', 'auto-generated.donotedit.onlygeneratedwhenrequiredfieldsarecomplete': 'Campaign Name', 'channelthroughwhichthecampaignisrun': 'Channel'}"
   ]
  },
  {
   "cell_type": "code",
   "execution_count": 245,
   "metadata": {
    "collapsed": false
   },
   "outputs": [
    {
     "data": {
      "text/plain": [
       "['Campaign Owner Email Address',\n",
       " 'Initiative',\n",
       " None,\n",
       " 'Segment',\n",
       " 'End Date',\n",
       " 'Activity Name',\n",
       " 'Uploader Email Address',\n",
       " 'Description',\n",
       " 'Country/Region',\n",
       " 'Methodology Stage',\n",
       " None,\n",
       " 'Campaign Brief',\n",
       " 'Sub-channel',\n",
       " 'Region',\n",
       " 'Vertical',\n",
       " 'Launch Date',\n",
       " 'Campaign Name',\n",
       " 'Channel']"
      ]
     },
     "execution_count": 245,
     "metadata": {},
     "output_type": "execute_result"
    }
   ],
   "source": [
    "subheader = []\n",
    "for k in dicthead.itervalues():\n",
    "    subheader.append(k)\n",
    "    \n",
    "subheader"
   ]
  },
  {
   "cell_type": "code",
   "execution_count": 246,
   "metadata": {
    "collapsed": false
   },
   "outputs": [],
   "source": [
    "subheader.sort()"
   ]
  },
  {
   "cell_type": "code",
   "execution_count": 247,
   "metadata": {
    "collapsed": false
   },
   "outputs": [
    {
     "data": {
      "text/plain": [
       "[None,\n",
       " None,\n",
       " 'Activity Name',\n",
       " 'Campaign Brief',\n",
       " 'Campaign Name',\n",
       " 'Campaign Owner Email Address',\n",
       " 'Channel',\n",
       " 'Country/Region',\n",
       " 'Description',\n",
       " 'End Date',\n",
       " 'Initiative',\n",
       " 'Launch Date',\n",
       " 'Methodology Stage',\n",
       " 'Region',\n",
       " 'Segment',\n",
       " 'Sub-channel',\n",
       " 'Uploader Email Address',\n",
       " 'Vertical']"
      ]
     },
     "execution_count": 247,
     "metadata": {},
     "output_type": "execute_result"
    }
   ],
   "source": [
    "subheader"
   ]
  },
  {
   "cell_type": "code",
   "execution_count": 248,
   "metadata": {
    "collapsed": true
   },
   "outputs": [],
   "source": [
    "copy = subheader\n"
   ]
  },
  {
   "cell_type": "code",
   "execution_count": 249,
   "metadata": {
    "collapsed": false
   },
   "outputs": [
    {
     "name": "stdout",
     "output_type": "stream",
     "text": [
      "works\n"
     ]
    }
   ],
   "source": [
    "if copy == subheader:\n",
    "    print \"works\"\n",
    "else:\n",
    "    print \"dammit\""
   ]
  },
  {
   "cell_type": "code",
   "execution_count": 252,
   "metadata": {
    "collapsed": true
   },
   "outputs": [],
   "source": [
    "subheaders = [subheader]"
   ]
  },
  {
   "cell_type": "code",
   "execution_count": 258,
   "metadata": {
    "collapsed": false
   },
   "outputs": [
    {
     "name": "stdout",
     "output_type": "stream",
     "text": [
      "works\n"
     ]
    }
   ],
   "source": [
    "if copy in subheaders:\n",
    "    print \"works\"\n",
    "else:\n",
    "    print \"dammit\""
   ]
  },
  {
   "cell_type": "code",
   "execution_count": 254,
   "metadata": {
    "collapsed": false
   },
   "outputs": [
    {
     "data": {
      "text/plain": [
       "[[None,\n",
       "  None,\n",
       "  'Activity Name',\n",
       "  'Campaign Brief',\n",
       "  'Campaign Name',\n",
       "  'Campaign Owner Email Address',\n",
       "  'Channel',\n",
       "  'Country/Region',\n",
       "  'Description',\n",
       "  'End Date',\n",
       "  'Initiative',\n",
       "  'Launch Date',\n",
       "  'Methodology Stage',\n",
       "  'Region',\n",
       "  'Segment',\n",
       "  'Sub-channel',\n",
       "  'Uploader Email Address',\n",
       "  'Vertical']]"
      ]
     },
     "execution_count": 254,
     "metadata": {},
     "output_type": "execute_result"
    }
   ],
   "source": [
    "subheaders"
   ]
  },
  {
   "cell_type": "code",
   "execution_count": 255,
   "metadata": {
    "collapsed": false
   },
   "outputs": [
    {
     "data": {
      "text/plain": [
       "[None,\n",
       " None,\n",
       " 'Activity Name',\n",
       " 'Campaign Brief',\n",
       " 'Campaign Name',\n",
       " 'Campaign Owner Email Address',\n",
       " 'Channel',\n",
       " 'Country/Region',\n",
       " 'Description',\n",
       " 'End Date',\n",
       " 'Initiative',\n",
       " 'Launch Date',\n",
       " 'Methodology Stage',\n",
       " 'Region',\n",
       " 'Segment',\n",
       " 'Sub-channel',\n",
       " 'Uploader Email Address',\n",
       " 'Vertical']"
      ]
     },
     "execution_count": 255,
     "metadata": {},
     "output_type": "execute_result"
    }
   ],
   "source": [
    "copy"
   ]
  },
  {
   "cell_type": "code",
   "execution_count": 272,
   "metadata": {
    "collapsed": false
   },
   "outputs": [
    {
     "name": "stdout",
     "output_type": "stream",
     "text": [
      "2016-01-06\n"
     ]
    }
   ],
   "source": [
    "from datetime import datetime\n",
    "somedate = \"6/1/2016\"\n",
    "newdate = datetime.strptime(somedate,'%d/%m/%Y').strftime('%Y-%m-%d')\n",
    "print newdate\n"
   ]
  },
  {
   "cell_type": "code",
   "execution_count": 270,
   "metadata": {
    "collapsed": false
   },
   "outputs": [
    {
     "name": "stdout",
     "output_type": "stream",
     "text": [
      "2016-01-29\n"
     ]
    }
   ],
   "source": [
    "if len(somedate.split(\"/\")[0]) == 1:\n",
    "    newdate = datetime.strptime(somedate,'%d/%m/%Y').strftime('%Y-%m-%d')\n",
    "    print newdate\n",
    "elif len(somedate.split(\"/\")[0]) == 2:\n",
    "    newdate = datetime.strptime(somedate,'%d/%m/%Y').strftime('%Y-%m-%d')\n",
    "    print newdate"
   ]
  },
  {
   "cell_type": "code",
   "execution_count": null,
   "metadata": {
    "collapsed": true
   },
   "outputs": [],
   "source": [
    "%Y-%m-%d').strftime('%m/%d/%y')\n"
   ]
  }
 ],
 "metadata": {
  "kernelspec": {
   "display_name": "Python 2",
   "language": "python",
   "name": "python2"
  },
  "language_info": {
   "codemirror_mode": {
    "name": "ipython",
    "version": 2
   },
   "file_extension": ".py",
   "mimetype": "text/x-python",
   "name": "python",
   "nbconvert_exporter": "python",
   "pygments_lexer": "ipython2",
   "version": "2.7.11"
  }
 },
 "nbformat": 4,
 "nbformat_minor": 0
}
